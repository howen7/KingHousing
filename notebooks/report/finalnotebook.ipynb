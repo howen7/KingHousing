{
 "cells": [
  {
   "cell_type": "code",
   "execution_count": 1,
   "metadata": {},
   "outputs": [],
   "source": [
    "import pandas as pd\n",
    "import numpy as np\n",
    "import json\n",
    "\n",
    "import matplotlib.pyplot as plt\n",
    "import seaborn as sns\n",
    "\n",
    "import statsmodels.stats.api as sms\n",
    "import statsmodels.api as sm\n",
    "from statsmodels.formula.api import ols\n",
    "from statsmodels.stats.diagnostic import linear_rainbow, het_breuschpagan\n",
    "from statsmodels.stats.outliers_influence import variance_inflation_factor\n",
    "\n",
    "from sklearn.preprocessing import LabelEncoder\n",
    "\n",
    "%load_ext autoreload\n",
    "%autoreload 2\n",
    "\n",
    "import os\n",
    "import sys\n",
    "module_path = os.path.abspath(os.path.join(os.pardir, os.pardir))\n",
    "if module_path not in sys.path:\n",
    "    sys.path.append(module_path)\n",
    "    \n",
    "from src.mymods import correlation_info, model_summary"
   ]
  },
  {
   "cell_type": "code",
   "execution_count": 3,
   "metadata": {},
   "outputs": [],
   "source": [
    "df = pd.read_json('../../src/data/combined_onehot.json')"
   ]
  },
  {
   "cell_type": "code",
   "execution_count": 4,
   "metadata": {},
   "outputs": [
    {
     "data": {
      "text/plain": [
       "['SqFtTotLiving',\n",
       " 'SqFtOpenPorch',\n",
       " 'FinBasementGrade',\n",
       " 'WfntLocation_6.0',\n",
       " 'WfntLocation_7.0',\n",
       " 'WfntFootage',\n",
       " 'WfntLocation_3.0',\n",
       " 'WfntLocation_8.0',\n",
       " 'WfntLocation_5.0']"
      ]
     },
     "execution_count": 4,
     "metadata": {},
     "output_type": "execute_result"
    },
    {
     "data": {
      "image/png": "[encoded data removed]",
      "text/plain": [
       "<Figure size 1152x864 with 2 Axes>"
      ]
     },
     "metadata": {
      "needs_background": "light"
     },
     "output_type": "display_data"
    }
   ],
   "source": [
    "top_corr, graph = correlation_info(df, 'SalePrice',.01)\n",
    "top_corr"
   ]
  },
  {
   "cell_type": "code",
   "execution_count": 5,
   "metadata": {},
   "outputs": [
    {
     "data": {
      "text/html": [
       "<table class=\"simpletable\">\n",
       "<caption>OLS Regression Results</caption>\n",
       "<tr>\n",
       "  <th>Dep. Variable:</th>        <td>SalePrice</td>    <th>  R-squared (uncentered):</th>       <td>   0.857</td>  \n",
       "</tr>\n",
       "<tr>\n",
       "  <th>Model:</th>                   <td>OLS</td>       <th>  Adj. R-squared (uncentered):</th>  <td>   0.857</td>  \n",
       "</tr>\n",
       "<tr>\n",
       "  <th>Method:</th>             <td>Least Squares</td>  <th>  F-statistic:       </th>           <td>1.722e+04</td> \n",
       "</tr>\n",
       "<tr>\n",
       "  <th>Date:</th>             <td>Sun, 04 Oct 2020</td> <th>  Prob (F-statistic):</th>            <td>  0.00</td>   \n",
       "</tr>\n",
       "<tr>\n",
       "  <th>Time:</th>                 <td>17:49:22</td>     <th>  Log-Likelihood:    </th>          <td>-3.6602e+05</td>\n",
       "</tr>\n",
       "<tr>\n",
       "  <th>No. Observations:</th>      <td> 25903</td>      <th>  AIC:               </th>           <td>7.321e+05</td> \n",
       "</tr>\n",
       "<tr>\n",
       "  <th>Df Residuals:</th>          <td> 25894</td>      <th>  BIC:               </th>           <td>7.321e+05</td> \n",
       "</tr>\n",
       "<tr>\n",
       "  <th>Df Model:</th>              <td>     9</td>      <th>                     </th>               <td> </td>     \n",
       "</tr>\n",
       "<tr>\n",
       "  <th>Covariance Type:</th>      <td>nonrobust</td>    <th>                     </th>               <td> </td>     \n",
       "</tr>\n",
       "</table>\n",
       "<table class=\"simpletable\">\n",
       "<tr>\n",
       "          <td></td>            <th>coef</th>     <th>std err</th>      <th>t</th>      <th>P>|t|</th>  <th>[0.025</th>    <th>0.975]</th>  \n",
       "</tr>\n",
       "<tr>\n",
       "  <th>SqFtTotLiving</th>    <td>  318.8279</td> <td>    1.431</td> <td>  222.727</td> <td> 0.000</td> <td>  316.022</td> <td>  321.634</td>\n",
       "</tr>\n",
       "<tr>\n",
       "  <th>SqFtOpenPorch</th>    <td>  125.3265</td> <td>   19.153</td> <td>    6.544</td> <td> 0.000</td> <td>   87.786</td> <td>  162.867</td>\n",
       "</tr>\n",
       "<tr>\n",
       "  <th>FinBasementGrade</th> <td> 1.392e+04</td> <td>  591.052</td> <td>   23.559</td> <td> 0.000</td> <td> 1.28e+04</td> <td> 1.51e+04</td>\n",
       "</tr>\n",
       "<tr>\n",
       "  <th>WfntLocation_6.0</th> <td>     1e+06</td> <td> 4.64e+04</td> <td>   21.573</td> <td> 0.000</td> <td> 9.09e+05</td> <td> 1.09e+06</td>\n",
       "</tr>\n",
       "<tr>\n",
       "  <th>WfntLocation_7.0</th> <td> 1.238e+06</td> <td> 7.45e+04</td> <td>   16.621</td> <td> 0.000</td> <td> 1.09e+06</td> <td> 1.38e+06</td>\n",
       "</tr>\n",
       "<tr>\n",
       "  <th>WfntFootage</th>      <td>  334.4771</td> <td>  101.484</td> <td>    3.296</td> <td> 0.001</td> <td>  135.562</td> <td>  533.392</td>\n",
       "</tr>\n",
       "<tr>\n",
       "  <th>WfntLocation_3.0</th> <td> 3.566e+05</td> <td> 3.73e+04</td> <td>    9.572</td> <td> 0.000</td> <td> 2.84e+05</td> <td>  4.3e+05</td>\n",
       "</tr>\n",
       "<tr>\n",
       "  <th>WfntLocation_8.0</th> <td> 9.215e+04</td> <td> 3.11e+04</td> <td>    2.959</td> <td> 0.003</td> <td> 3.11e+04</td> <td> 1.53e+05</td>\n",
       "</tr>\n",
       "<tr>\n",
       "  <th>WfntLocation_5.0</th> <td> 8.805e+05</td> <td> 1.25e+05</td> <td>    7.018</td> <td> 0.000</td> <td> 6.35e+05</td> <td> 1.13e+06</td>\n",
       "</tr>\n",
       "</table>\n",
       "<table class=\"simpletable\">\n",
       "<tr>\n",
       "  <th>Omnibus:</th>       <td>5790.612</td> <th>  Durbin-Watson:     </th> <td>   1.962</td> \n",
       "</tr>\n",
       "<tr>\n",
       "  <th>Prob(Omnibus):</th>  <td> 0.000</td>  <th>  Jarque-Bera (JB):  </th> <td>25422.301</td>\n",
       "</tr>\n",
       "<tr>\n",
       "  <th>Skew:</th>           <td> 1.035</td>  <th>  Prob(JB):          </th> <td>    0.00</td> \n",
       "</tr>\n",
       "<tr>\n",
       "  <th>Kurtosis:</th>       <td> 7.390</td>  <th>  Cond. No.          </th> <td>1.43e+05</td> \n",
       "</tr>\n",
       "</table><br/><br/>Warnings:<br/>[1] Standard Errors assume that the covariance matrix of the errors is correctly specified.<br/>[2] The condition number is large, 1.43e+05. This might indicate that there are<br/>strong multicollinearity or other numerical problems."
      ],
      "text/plain": [
       "<class 'statsmodels.iolib.summary.Summary'>\n",
       "\"\"\"\n",
       "                                 OLS Regression Results                                \n",
       "=======================================================================================\n",
       "Dep. Variable:              SalePrice   R-squared (uncentered):                   0.857\n",
       "Model:                            OLS   Adj. R-squared (uncentered):              0.857\n",
       "Method:                 Least Squares   F-statistic:                          1.722e+04\n",
       "Date:                Sun, 04 Oct 2020   Prob (F-statistic):                        0.00\n",
       "Time:                        17:49:22   Log-Likelihood:                     -3.6602e+05\n",
       "No. Observations:               25903   AIC:                                  7.321e+05\n",
       "Df Residuals:                   25894   BIC:                                  7.321e+05\n",
       "Df Model:                           9                                                  \n",
       "Covariance Type:            nonrobust                                                  \n",
       "====================================================================================\n",
       "                       coef    std err          t      P>|t|      [0.025      0.975]\n",
       "------------------------------------------------------------------------------------\n",
       "SqFtTotLiving      318.8279      1.431    222.727      0.000     316.022     321.634\n",
       "SqFtOpenPorch      125.3265     19.153      6.544      0.000      87.786     162.867\n",
       "FinBasementGrade  1.392e+04    591.052     23.559      0.000    1.28e+04    1.51e+04\n",
       "WfntLocation_6.0      1e+06   4.64e+04     21.573      0.000    9.09e+05    1.09e+06\n",
       "WfntLocation_7.0  1.238e+06   7.45e+04     16.621      0.000    1.09e+06    1.38e+06\n",
       "WfntFootage        334.4771    101.484      3.296      0.001     135.562     533.392\n",
       "WfntLocation_3.0  3.566e+05   3.73e+04      9.572      0.000    2.84e+05     4.3e+05\n",
       "WfntLocation_8.0  9.215e+04   3.11e+04      2.959      0.003    3.11e+04    1.53e+05\n",
       "WfntLocation_5.0  8.805e+05   1.25e+05      7.018      0.000    6.35e+05    1.13e+06\n",
       "==============================================================================\n",
       "Omnibus:                     5790.612   Durbin-Watson:                   1.962\n",
       "Prob(Omnibus):                  0.000   Jarque-Bera (JB):            25422.301\n",
       "Skew:                           1.035   Prob(JB):                         0.00\n",
       "Kurtosis:                       7.390   Cond. No.                     1.43e+05\n",
       "==============================================================================\n",
       "\n",
       "Warnings:\n",
       "[1] Standard Errors assume that the covariance matrix of the errors is correctly specified.\n",
       "[2] The condition number is large, 1.43e+05. This might indicate that there are\n",
       "strong multicollinearity or other numerical problems.\n",
       "\"\"\""
      ]
     },
     "execution_count": 5,
     "metadata": {},
     "output_type": "execute_result"
    }
   ],
   "source": [
    "summary, third_model = model_summary(df,'SalePrice', top_corr)\n",
    "summary"
   ]
  },
  {
   "cell_type": "markdown",
   "metadata": {},
   "source": [
    "### Linearity"
   ]
  },
  {
   "cell_type": "code",
   "execution_count": 112,
   "metadata": {},
   "outputs": [
    {
     "name": "stdout",
     "output_type": "stream",
     "text": [
      "Rainbow statistic: 1.0023206849327422\n",
      "Rainbow p-value: 0.4475429191934796\n"
     ]
    }
   ],
   "source": [
    "rainbow_statistic, rainbow_p_value = linear_rainbow(third_model)\n",
    "print(\"Rainbow statistic:\", rainbow_statistic)\n",
    "print(\"Rainbow p-value:\", rainbow_p_value)"
   ]
  },
  {
   "cell_type": "markdown",
   "metadata": {},
   "source": [
    "### Normality "
   ]
  },
  {
   "cell_type": "code",
   "execution_count": 114,
   "metadata": {},
   "outputs": [
    {
     "name": "stdout",
     "output_type": "stream",
     "text": [
      "jarque_bera: 25422.30053352313\n",
      "jarque_bera: 0.0\n"
     ]
    },
    {
     "data": {
      "image/png": "[encoded data removed]",
      "text/plain": [
       "<Figure size 432x288 with 1 Axes>"
      ]
     },
     "metadata": {
      "needs_background": "light"
     },
     "output_type": "display_data"
    }
   ],
   "source": [
    "jarque_bera = list(sms.jarque_bera(third_model.resid))[0]\n",
    "Prob_JB =list(sms.jarque_bera(third_model.resid))[1]\n",
    "print(f'jarque_bera: {jarque_bera }')\n",
    "print(f'jarque_bera: {Prob_JB}')\n",
    "\n",
    "third_model_resids = third_model.resid\n",
    "sm.qqplot(third_model_resids);"
   ]
  },
  {
   "cell_type": "markdown",
   "metadata": {},
   "source": [
    "### Homoscadasticity"
   ]
  },
  {
   "cell_type": "code",
   "execution_count": 118,
   "metadata": {},
   "outputs": [
    {
     "data": {
      "image/png": "[encoded data removed]",
      "text/plain": [
       "<Figure size 432x288 with 1 Axes>"
      ]
     },
     "metadata": {
      "needs_background": "light"
     },
     "output_type": "display_data"
    }
   ],
   "source": [
    "y_hat = third_model.predict()\n",
    "\n",
    "fig, ax = plt.subplots()\n",
    "ax.set(xlabel=\"Predicted Selling Price\",\n",
    "        ylabel=\"Residuals (Actual - Predicted Selling Price\")\n",
    "ax.scatter(y_hat, third_model_resids);"
   ]
  },
  {
   "cell_type": "code",
   "execution_count": 122,
   "metadata": {},
   "outputs": [
    {
     "data": {
      "text/html": [
       "<div>\n",
       "<style scoped>\n",
       "    .dataframe tbody tr th:only-of-type {\n",
       "        vertical-align: middle;\n",
       "    }\n",
       "\n",
       "    .dataframe tbody tr th {\n",
       "        vertical-align: top;\n",
       "    }\n",
       "\n",
       "    .dataframe thead th {\n",
       "        text-align: right;\n",
       "    }\n",
       "</style>\n",
       "<table border=\"1\" class=\"dataframe\">\n",
       "  <thead>\n",
       "    <tr style=\"text-align: right;\">\n",
       "      <th></th>\n",
       "      <th>VIF</th>\n",
       "      <th>feature</th>\n",
       "    </tr>\n",
       "  </thead>\n",
       "  <tbody>\n",
       "    <tr>\n",
       "      <th>0</th>\n",
       "      <td>2.668034</td>\n",
       "      <td>SqFtTotLiving</td>\n",
       "    </tr>\n",
       "    <tr>\n",
       "      <th>1</th>\n",
       "      <td>1.724453</td>\n",
       "      <td>SqFtOpenPorch</td>\n",
       "    </tr>\n",
       "    <tr>\n",
       "      <th>2</th>\n",
       "      <td>1.749981</td>\n",
       "      <td>FinBasementGrade</td>\n",
       "    </tr>\n",
       "    <tr>\n",
       "      <th>3</th>\n",
       "      <td>1.016200</td>\n",
       "      <td>WfntLocation_6.0</td>\n",
       "    </tr>\n",
       "    <tr>\n",
       "      <th>4</th>\n",
       "      <td>1.008621</td>\n",
       "      <td>WfntLocation_7.0</td>\n",
       "    </tr>\n",
       "    <tr>\n",
       "      <th>5</th>\n",
       "      <td>1.132020</td>\n",
       "      <td>WfntFootage</td>\n",
       "    </tr>\n",
       "    <tr>\n",
       "      <th>6</th>\n",
       "      <td>1.047656</td>\n",
       "      <td>WfntLocation_3.0</td>\n",
       "    </tr>\n",
       "    <tr>\n",
       "      <th>7</th>\n",
       "      <td>1.067224</td>\n",
       "      <td>WfntLocation_8.0</td>\n",
       "    </tr>\n",
       "    <tr>\n",
       "      <th>8</th>\n",
       "      <td>1.002226</td>\n",
       "      <td>WfntLocation_5.0</td>\n",
       "    </tr>\n",
       "  </tbody>\n",
       "</table>\n",
       "</div>"
      ],
      "text/plain": [
       "        VIF           feature\n",
       "0  2.668034     SqFtTotLiving\n",
       "1  1.724453     SqFtOpenPorch\n",
       "2  1.749981  FinBasementGrade\n",
       "3  1.016200  WfntLocation_6.0\n",
       "4  1.008621  WfntLocation_7.0\n",
       "5  1.132020       WfntFootage\n",
       "6  1.047656  WfntLocation_3.0\n",
       "7  1.067224  WfntLocation_8.0\n",
       "8  1.002226  WfntLocation_5.0"
      ]
     },
     "execution_count": 122,
     "metadata": {},
     "output_type": "execute_result"
    }
   ],
   "source": [
    "rows = df[top_corr].values\n",
    "\n",
    "vif_df_third = pd.DataFrame()\n",
    "vif_df_third[\"VIF\"] = [variance_inflation_factor(rows, i) for i in range(len(top_corr))]\n",
    "vif_df_third[\"feature\"] = top_corr\n",
    "\n",
    "vif_df_third"
   ]
  },
  {
   "cell_type": "code",
   "execution_count": null,
   "metadata": {},
   "outputs": [],
   "source": []
  }
 ],
 "metadata": {
  "kernelspec": {
   "display_name": "Python 3",
   "language": "python",
   "name": "python3"
  },
  "language_info": {
   "codemirror_mode": {
    "name": "ipython",
    "version": 3
   },
   "file_extension": ".py",
   "mimetype": "text/x-python",
   "name": "python",
   "nbconvert_exporter": "python",
   "pygments_lexer": "ipython3",
   "version": "3.8.3"
  }
 },
 "nbformat": 4,
 "nbformat_minor": 4
}
