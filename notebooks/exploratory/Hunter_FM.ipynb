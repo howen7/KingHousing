{
 "cells": [
  {
   "cell_type": "code",
   "execution_count": 1,
   "metadata": {},
   "outputs": [],
   "source": [
    "import pandas as pd\n",
    "import numpy as np\n",
    "import json\n",
    "\n",
    "import matplotlib.pyplot as plt\n",
    "import seaborn as sns\n",
    "\n",
    "import statsmodels.stats.api as sms\n",
    "import statsmodels.api as sm\n",
    "from statsmodels.formula.api import ols\n",
    "from statsmodels.stats.diagnostic import linear_rainbow, het_breuschpagan\n",
    "from statsmodels.stats.outliers_influence import variance_inflation_factor\n",
    "\n",
    "from sklearn.preprocessing import LabelEncoder\n",
    "\n",
    "%load_ext autoreload\n",
    "%autoreload 2\n",
    "\n",
    "import os\n",
    "import sys\n",
    "module_path = os.path.abspath(os.path.join(os.pardir, os.pardir))\n",
    "if module_path not in sys.path:\n",
    "    sys.path.append(module_path)"
   ]
  },
  {
   "cell_type": "code",
   "execution_count": 123,
   "metadata": {},
   "outputs": [],
   "source": [
    "df = pd.read_json('../../src/data/combined_onehot.json')"
   ]
  },
  {
   "cell_type": "code",
   "execution_count": 124,
   "metadata": {},
   "outputs": [],
   "source": [
    "from src.mymods import correlation_info"
   ]
  },
  {
   "cell_type": "code",
   "execution_count": 125,
   "metadata": {},
   "outputs": [
    {
     "data": {
      "text/plain": [
       "['SqFtTotLiving']"
      ]
     },
     "execution_count": 125,
     "metadata": {},
     "output_type": "execute_result"
    },
    {
     "data": {
      "image/png": "[encoded data removed]",
      "text/plain": [
       "<Figure size 1152x864 with 2 Axes>"
      ]
     },
     "metadata": {
      "needs_background": "light"
     },
     "output_type": "display_data"
    }
   ],
   "source": [
    "top_corr, graph = correlation_info(df, 'SalePrice',.5)\n",
    "top_corr"
   ]
  },
  {
   "cell_type": "code",
   "execution_count": 79,
   "metadata": {},
   "outputs": [],
   "source": [
    "from src.mymods import model_summary"
   ]
  },
  {
   "cell_type": "code",
   "execution_count": 80,
   "metadata": {},
   "outputs": [
    {
     "data": {
      "text/html": [
       "<table class=\"simpletable\">\n",
       "<caption>OLS Regression Results</caption>\n",
       "<tr>\n",
       "  <th>Dep. Variable:</th>        <td>SalePrice</td>    <th>  R-squared (uncentered):</th>       <td>   0.848</td>  \n",
       "</tr>\n",
       "<tr>\n",
       "  <th>Model:</th>                   <td>OLS</td>       <th>  Adj. R-squared (uncentered):</th>  <td>   0.848</td>  \n",
       "</tr>\n",
       "<tr>\n",
       "  <th>Method:</th>             <td>Least Squares</td>  <th>  F-statistic:       </th>           <td>1.448e+05</td> \n",
       "</tr>\n",
       "<tr>\n",
       "  <th>Date:</th>             <td>Sun, 04 Oct 2020</td> <th>  Prob (F-statistic):</th>            <td>  0.00</td>   \n",
       "</tr>\n",
       "<tr>\n",
       "  <th>Time:</th>                 <td>15:53:27</td>     <th>  Log-Likelihood:    </th>          <td>-3.6678e+05</td>\n",
       "</tr>\n",
       "<tr>\n",
       "  <th>No. Observations:</th>      <td> 25903</td>      <th>  AIC:               </th>           <td>7.336e+05</td> \n",
       "</tr>\n",
       "<tr>\n",
       "  <th>Df Residuals:</th>          <td> 25902</td>      <th>  BIC:               </th>           <td>7.336e+05</td> \n",
       "</tr>\n",
       "<tr>\n",
       "  <th>Df Model:</th>              <td>     1</td>      <th>                     </th>               <td> </td>     \n",
       "</tr>\n",
       "<tr>\n",
       "  <th>Covariance Type:</th>      <td>nonrobust</td>    <th>                     </th>               <td> </td>     \n",
       "</tr>\n",
       "</table>\n",
       "<table class=\"simpletable\">\n",
       "<tr>\n",
       "        <td></td>           <th>coef</th>     <th>std err</th>      <th>t</th>      <th>P>|t|</th>  <th>[0.025</th>    <th>0.975]</th>  \n",
       "</tr>\n",
       "<tr>\n",
       "  <th>SqFtTotLiving</th> <td>  343.2993</td> <td>    0.902</td> <td>  380.478</td> <td> 0.000</td> <td>  341.531</td> <td>  345.068</td>\n",
       "</tr>\n",
       "</table>\n",
       "<table class=\"simpletable\">\n",
       "<tr>\n",
       "  <th>Omnibus:</th>       <td>5991.342</td> <th>  Durbin-Watson:     </th> <td>   1.965</td> \n",
       "</tr>\n",
       "<tr>\n",
       "  <th>Prob(Omnibus):</th>  <td> 0.000</td>  <th>  Jarque-Bera (JB):  </th> <td>25298.380</td>\n",
       "</tr>\n",
       "<tr>\n",
       "  <th>Skew:</th>           <td> 1.085</td>  <th>  Prob(JB):          </th> <td>    0.00</td> \n",
       "</tr>\n",
       "<tr>\n",
       "  <th>Kurtosis:</th>       <td> 7.328</td>  <th>  Cond. No.          </th> <td>    1.00</td> \n",
       "</tr>\n",
       "</table><br/><br/>Warnings:<br/>[1] Standard Errors assume that the covariance matrix of the errors is correctly specified."
      ],
      "text/plain": [
       "<class 'statsmodels.iolib.summary.Summary'>\n",
       "\"\"\"\n",
       "                                 OLS Regression Results                                \n",
       "=======================================================================================\n",
       "Dep. Variable:              SalePrice   R-squared (uncentered):                   0.848\n",
       "Model:                            OLS   Adj. R-squared (uncentered):              0.848\n",
       "Method:                 Least Squares   F-statistic:                          1.448e+05\n",
       "Date:                Sun, 04 Oct 2020   Prob (F-statistic):                        0.00\n",
       "Time:                        15:53:27   Log-Likelihood:                     -3.6678e+05\n",
       "No. Observations:               25903   AIC:                                  7.336e+05\n",
       "Df Residuals:                   25902   BIC:                                  7.336e+05\n",
       "Df Model:                           1                                                  \n",
       "Covariance Type:            nonrobust                                                  \n",
       "=================================================================================\n",
       "                    coef    std err          t      P>|t|      [0.025      0.975]\n",
       "---------------------------------------------------------------------------------\n",
       "SqFtTotLiving   343.2993      0.902    380.478      0.000     341.531     345.068\n",
       "==============================================================================\n",
       "Omnibus:                     5991.342   Durbin-Watson:                   1.965\n",
       "Prob(Omnibus):                  0.000   Jarque-Bera (JB):            25298.380\n",
       "Skew:                           1.085   Prob(JB):                         0.00\n",
       "Kurtosis:                       7.328   Cond. No.                         1.00\n",
       "==============================================================================\n",
       "\n",
       "Warnings:\n",
       "[1] Standard Errors assume that the covariance matrix of the errors is correctly specified.\n",
       "\"\"\""
      ]
     },
     "execution_count": 80,
     "metadata": {},
     "output_type": "execute_result"
    }
   ],
   "source": [
    "summary, first_model = model_summary(df,'SalePrice', top_corr)\n",
    "summary"
   ]
  },
  {
   "cell_type": "markdown",
   "metadata": {},
   "source": [
    "### Linearity"
   ]
  },
  {
   "cell_type": "code",
   "execution_count": 68,
   "metadata": {},
   "outputs": [
    {
     "name": "stdout",
     "output_type": "stream",
     "text": [
      "Rainbow statistic: 1.002177053358847\n",
      "Rainbow p-value: 0.450760764059331\n"
     ]
    }
   ],
   "source": [
    "rainbow_statistic, rainbow_p_value = linear_rainbow(first_model)\n",
    "print(\"Rainbow statistic:\", rainbow_statistic)\n",
    "print(\"Rainbow p-value:\", rainbow_p_value)"
   ]
  },
  {
   "cell_type": "markdown",
   "metadata": {},
   "source": [
    "### Normality"
   ]
  },
  {
   "cell_type": "code",
   "execution_count": 100,
   "metadata": {},
   "outputs": [
    {
     "name": "stdout",
     "output_type": "stream",
     "text": [
      "jarque_bera: 25298.37972469803\n",
      "jarque_bera: 0.0\n"
     ]
    },
    {
     "data": {
      "image/png": "[encoded data removed]",
      "text/plain": [
       "<Figure size 432x288 with 1 Axes>"
      ]
     },
     "metadata": {
      "needs_background": "light"
     },
     "output_type": "display_data"
    }
   ],
   "source": [
    "jarque_bera = list(sms.jarque_bera(first_model.resid))[0]\n",
    "Prob_JB =list(sms.jarque_bera(first_model.resid))[1]\n",
    "print(f'jarque_bera: {jarque_bera }')\n",
    "print(f'jarque_bera: {Prob_JB}')\n",
    "\n",
    "first_model_resids = first_model.resid\n",
    "sm.qqplot(first_model_resids);"
   ]
  },
  {
   "cell_type": "markdown",
   "metadata": {},
   "source": [
    "'''\n",
    "The JB score has a low p-value means that the current model violates the\n",
    "normality assumption. \n",
    "That supports the qq visual with the crooked tail.\n",
    "'''"
   ]
  },
  {
   "cell_type": "markdown",
   "metadata": {},
   "source": [
    "### Homoscadasticity"
   ]
  },
  {
   "cell_type": "code",
   "execution_count": 96,
   "metadata": {},
   "outputs": [
    {
     "data": {
      "image/png": "[encoded data removed]",
      "text/plain": [
       "<Figure size 432x288 with 1 Axes>"
      ]
     },
     "metadata": {
      "needs_background": "light"
     },
     "output_type": "display_data"
    }
   ],
   "source": [
    "y_hat = first_model.predict()\n",
    "\n",
    "fig, ax = plt.subplots()\n",
    "ax.set(xlabel=\"Predicted Selling Price\",\n",
    "        ylabel=\"Residuals (Actual - Predicted Selling Price\")\n",
    "ax.scatter(y_hat, first_model_resids);"
   ]
  },
  {
   "cell_type": "markdown",
   "metadata": {},
   "source": [
    "# Second Model"
   ]
  },
  {
   "cell_type": "code",
   "execution_count": 83,
   "metadata": {},
   "outputs": [
    {
     "data": {
      "text/plain": [
       "['SqFtTotLiving', 'SqFtOpenPorch', 'FinBasementGrade']"
      ]
     },
     "execution_count": 83,
     "metadata": {},
     "output_type": "execute_result"
    },
    {
     "data": {
      "image/png": "[encoded data removed]",
      "text/plain": [
       "<Figure size 1152x864 with 2 Axes>"
      ]
     },
     "metadata": {
      "needs_background": "light"
     },
     "output_type": "display_data"
    }
   ],
   "source": [
    "top_corr, graph = correlation_info(df, 'SalePrice',.2)\n",
    "top_corr"
   ]
  },
  {
   "cell_type": "code",
   "execution_count": 84,
   "metadata": {},
   "outputs": [
    {
     "data": {
      "text/html": [
       "<table class=\"simpletable\">\n",
       "<caption>OLS Regression Results</caption>\n",
       "<tr>\n",
       "  <th>Dep. Variable:</th>        <td>SalePrice</td>    <th>  R-squared (uncentered):</th>       <td>   0.852</td>  \n",
       "</tr>\n",
       "<tr>\n",
       "  <th>Model:</th>                   <td>OLS</td>       <th>  Adj. R-squared (uncentered):</th>  <td>   0.852</td>  \n",
       "</tr>\n",
       "<tr>\n",
       "  <th>Method:</th>             <td>Least Squares</td>  <th>  F-statistic:       </th>           <td>4.953e+04</td> \n",
       "</tr>\n",
       "<tr>\n",
       "  <th>Date:</th>             <td>Sun, 04 Oct 2020</td> <th>  Prob (F-statistic):</th>            <td>  0.00</td>   \n",
       "</tr>\n",
       "<tr>\n",
       "  <th>Time:</th>                 <td>16:36:58</td>     <th>  Log-Likelihood:    </th>          <td>-3.6649e+05</td>\n",
       "</tr>\n",
       "<tr>\n",
       "  <th>No. Observations:</th>      <td> 25903</td>      <th>  AIC:               </th>           <td>7.330e+05</td> \n",
       "</tr>\n",
       "<tr>\n",
       "  <th>Df Residuals:</th>          <td> 25900</td>      <th>  BIC:               </th>           <td>7.330e+05</td> \n",
       "</tr>\n",
       "<tr>\n",
       "  <th>Df Model:</th>              <td>     3</td>      <th>                     </th>               <td> </td>     \n",
       "</tr>\n",
       "<tr>\n",
       "  <th>Covariance Type:</th>      <td>nonrobust</td>    <th>                     </th>               <td> </td>     \n",
       "</tr>\n",
       "</table>\n",
       "<table class=\"simpletable\">\n",
       "<tr>\n",
       "          <td></td>            <th>coef</th>     <th>std err</th>      <th>t</th>      <th>P>|t|</th>  <th>[0.025</th>    <th>0.975]</th>  \n",
       "</tr>\n",
       "<tr>\n",
       "  <th>SqFtTotLiving</th>    <td>  320.1277</td> <td>    1.456</td> <td>  219.861</td> <td> 0.000</td> <td>  317.274</td> <td>  322.982</td>\n",
       "</tr>\n",
       "<tr>\n",
       "  <th>SqFtOpenPorch</th>    <td>  136.3705</td> <td>   19.475</td> <td>    7.002</td> <td> 0.000</td> <td>   98.198</td> <td>  174.542</td>\n",
       "</tr>\n",
       "<tr>\n",
       "  <th>FinBasementGrade</th> <td> 1.448e+04</td> <td>  601.438</td> <td>   24.083</td> <td> 0.000</td> <td> 1.33e+04</td> <td> 1.57e+04</td>\n",
       "</tr>\n",
       "</table>\n",
       "<table class=\"simpletable\">\n",
       "<tr>\n",
       "  <th>Omnibus:</th>       <td>6288.876</td> <th>  Durbin-Watson:     </th> <td>   1.969</td> \n",
       "</tr>\n",
       "<tr>\n",
       "  <th>Prob(Omnibus):</th>  <td> 0.000</td>  <th>  Jarque-Bera (JB):  </th> <td>27985.569</td>\n",
       "</tr>\n",
       "<tr>\n",
       "  <th>Skew:</th>           <td> 1.124</td>  <th>  Prob(JB):          </th> <td>    0.00</td> \n",
       "</tr>\n",
       "<tr>\n",
       "  <th>Kurtosis:</th>       <td> 7.569</td>  <th>  Cond. No.          </th> <td>    675.</td> \n",
       "</tr>\n",
       "</table><br/><br/>Warnings:<br/>[1] Standard Errors assume that the covariance matrix of the errors is correctly specified."
      ],
      "text/plain": [
       "<class 'statsmodels.iolib.summary.Summary'>\n",
       "\"\"\"\n",
       "                                 OLS Regression Results                                \n",
       "=======================================================================================\n",
       "Dep. Variable:              SalePrice   R-squared (uncentered):                   0.852\n",
       "Model:                            OLS   Adj. R-squared (uncentered):              0.852\n",
       "Method:                 Least Squares   F-statistic:                          4.953e+04\n",
       "Date:                Sun, 04 Oct 2020   Prob (F-statistic):                        0.00\n",
       "Time:                        16:36:58   Log-Likelihood:                     -3.6649e+05\n",
       "No. Observations:               25903   AIC:                                  7.330e+05\n",
       "Df Residuals:                   25900   BIC:                                  7.330e+05\n",
       "Df Model:                           3                                                  \n",
       "Covariance Type:            nonrobust                                                  \n",
       "====================================================================================\n",
       "                       coef    std err          t      P>|t|      [0.025      0.975]\n",
       "------------------------------------------------------------------------------------\n",
       "SqFtTotLiving      320.1277      1.456    219.861      0.000     317.274     322.982\n",
       "SqFtOpenPorch      136.3705     19.475      7.002      0.000      98.198     174.542\n",
       "FinBasementGrade  1.448e+04    601.438     24.083      0.000    1.33e+04    1.57e+04\n",
       "==============================================================================\n",
       "Omnibus:                     6288.876   Durbin-Watson:                   1.969\n",
       "Prob(Omnibus):                  0.000   Jarque-Bera (JB):            27985.569\n",
       "Skew:                           1.124   Prob(JB):                         0.00\n",
       "Kurtosis:                       7.569   Cond. No.                         675.\n",
       "==============================================================================\n",
       "\n",
       "Warnings:\n",
       "[1] Standard Errors assume that the covariance matrix of the errors is correctly specified.\n",
       "\"\"\""
      ]
     },
     "execution_count": 84,
     "metadata": {},
     "output_type": "execute_result"
    }
   ],
   "source": [
    "summary, second_model = model_summary(df,'SalePrice', top_corr)\n",
    "summary"
   ]
  },
  {
   "cell_type": "markdown",
   "metadata": {},
   "source": [
    "### Linearity"
   ]
  },
  {
   "cell_type": "code",
   "execution_count": 89,
   "metadata": {},
   "outputs": [
    {
     "name": "stdout",
     "output_type": "stream",
     "text": [
      "Rainbow statistic: 1.0051454366610355\n",
      "Rainbow p-value: 0.38513834754708215\n"
     ]
    }
   ],
   "source": [
    "rainbow_statistic, rainbow_p_value = linear_rainbow(second_model)\n",
    "print(\"Rainbow statistic:\", rainbow_statistic)\n",
    "print(\"Rainbow p-value:\", rainbow_p_value)"
   ]
  },
  {
   "cell_type": "markdown",
   "metadata": {},
   "source": [
    "### Normality "
   ]
  },
  {
   "cell_type": "code",
   "execution_count": null,
   "metadata": {},
   "outputs": [],
   "source": [
    "jarque_bera = list(sms.jarque_bera(second_model.resid))[0]\n",
    "Prob_JB =list(sms.jarque_bera(second_model.resid))[1]\n",
    "print(f'jarque_bera: {jarque_bera }')\n",
    "print(f'jarque_bera: {Prob_JB}')\n",
    "\n",
    "second_model_resids = second_model.resid\n",
    "sm.qqplot(Second_model_resids);"
   ]
  },
  {
   "cell_type": "markdown",
   "metadata": {},
   "source": [
    "### Homoscadasticity"
   ]
  },
  {
   "cell_type": "code",
   "execution_count": 101,
   "metadata": {},
   "outputs": [
    {
     "data": {
      "image/png": "[encoded data removed]",
      "text/plain": [
       "<Figure size 432x288 with 1 Axes>"
      ]
     },
     "metadata": {
      "needs_background": "light"
     },
     "output_type": "display_data"
    }
   ],
   "source": [
    "y_hat = second_model.predict()\n",
    "\n",
    "fig, ax = plt.subplots()\n",
    "ax.set(xlabel=\"Predicted Selling Price\",\n",
    "        ylabel=\"Residuals (Actual - Predicted Selling Price\")\n",
    "ax.scatter(y_hat, test_model_resids);"
   ]
  },
  {
   "cell_type": "markdown",
   "metadata": {},
   "source": [
    "### Independence"
   ]
  },
  {
   "cell_type": "code",
   "execution_count": 102,
   "metadata": {},
   "outputs": [
    {
     "data": {
      "text/html": [
       "<div>\n",
       "<style scoped>\n",
       "    .dataframe tbody tr th:only-of-type {\n",
       "        vertical-align: middle;\n",
       "    }\n",
       "\n",
       "    .dataframe tbody tr th {\n",
       "        vertical-align: top;\n",
       "    }\n",
       "\n",
       "    .dataframe thead th {\n",
       "        text-align: right;\n",
       "    }\n",
       "</style>\n",
       "<table border=\"1\" class=\"dataframe\">\n",
       "  <thead>\n",
       "    <tr style=\"text-align: right;\">\n",
       "      <th></th>\n",
       "      <th>VIF</th>\n",
       "      <th>feature</th>\n",
       "    </tr>\n",
       "  </thead>\n",
       "  <tbody>\n",
       "    <tr>\n",
       "      <th>0</th>\n",
       "      <td>2.662698</td>\n",
       "      <td>SqFtTotLiving</td>\n",
       "    </tr>\n",
       "    <tr>\n",
       "      <th>1</th>\n",
       "      <td>1.719851</td>\n",
       "      <td>SqFtOpenPorch</td>\n",
       "    </tr>\n",
       "    <tr>\n",
       "      <th>2</th>\n",
       "      <td>1.747881</td>\n",
       "      <td>FinBasementGrade</td>\n",
       "    </tr>\n",
       "  </tbody>\n",
       "</table>\n",
       "</div>"
      ],
      "text/plain": [
       "        VIF           feature\n",
       "0  2.662698     SqFtTotLiving\n",
       "1  1.719851     SqFtOpenPorch\n",
       "2  1.747881  FinBasementGrade"
      ]
     },
     "execution_count": 102,
     "metadata": {},
     "output_type": "execute_result"
    }
   ],
   "source": [
    "rows = df[top_corr].values\n",
    "\n",
    "vif_df = pd.DataFrame()\n",
    "vif_df[\"VIF\"] = [variance_inflation_factor(rows, i) for i in range(len(top_corr))]\n",
    "vif_df[\"feature\"] = top_corr\n",
    "\n",
    "vif_df"
   ]
  },
  {
   "cell_type": "markdown",
   "metadata": {},
   "source": [
    "# Third Model"
   ]
  },
  {
   "cell_type": "code",
   "execution_count": 126,
   "metadata": {},
   "outputs": [
    {
     "data": {
      "text/plain": [
       "['SqFtTotLiving',\n",
       " 'SqFtOpenPorch',\n",
       " 'FinBasementGrade',\n",
       " 'WfntLocation_6.0',\n",
       " 'WfntLocation_7.0',\n",
       " 'WfntFootage',\n",
       " 'WfntLocation_3.0',\n",
       " 'WfntLocation_8.0',\n",
       " 'WfntLocation_5.0',\n",
       " 'WfntLocation_9.0',\n",
       " 'WfntLocation_4.0']"
      ]
     },
     "execution_count": 126,
     "metadata": {},
     "output_type": "execute_result"
    },
    {
     "data": {
      "image/png": "[encoded data removed]",
      "text/plain": [
       "<Figure size 1152x864 with 2 Axes>"
      ]
     },
     "metadata": {
      "needs_background": "light"
     },
     "output_type": "display_data"
    }
   ],
   "source": [
    "top_corr, graph = correlation_info(df, 'SalePrice',.00)\n",
    "top_corr"
   ]
  },
  {
   "cell_type": "code",
   "execution_count": 127,
   "metadata": {},
   "outputs": [
    {
     "data": {
      "text/html": [
       "<table class=\"simpletable\">\n",
       "<caption>OLS Regression Results</caption>\n",
       "<tr>\n",
       "  <th>Dep. Variable:</th>        <td>SalePrice</td>    <th>  R-squared (uncentered):</th>       <td>   0.857</td>  \n",
       "</tr>\n",
       "<tr>\n",
       "  <th>Model:</th>                   <td>OLS</td>       <th>  Adj. R-squared (uncentered):</th>  <td>   0.857</td>  \n",
       "</tr>\n",
       "<tr>\n",
       "  <th>Method:</th>             <td>Least Squares</td>  <th>  F-statistic:       </th>           <td>1.409e+04</td> \n",
       "</tr>\n",
       "<tr>\n",
       "  <th>Date:</th>             <td>Sun, 04 Oct 2020</td> <th>  Prob (F-statistic):</th>            <td>  0.00</td>   \n",
       "</tr>\n",
       "<tr>\n",
       "  <th>Time:</th>                 <td>18:38:55</td>     <th>  Log-Likelihood:    </th>          <td>-3.6602e+05</td>\n",
       "</tr>\n",
       "<tr>\n",
       "  <th>No. Observations:</th>      <td> 25903</td>      <th>  AIC:               </th>           <td>7.321e+05</td> \n",
       "</tr>\n",
       "<tr>\n",
       "  <th>Df Residuals:</th>          <td> 25892</td>      <th>  BIC:               </th>           <td>7.322e+05</td> \n",
       "</tr>\n",
       "<tr>\n",
       "  <th>Df Model:</th>              <td>    11</td>      <th>                     </th>               <td> </td>     \n",
       "</tr>\n",
       "<tr>\n",
       "  <th>Covariance Type:</th>      <td>nonrobust</td>    <th>                     </th>               <td> </td>     \n",
       "</tr>\n",
       "</table>\n",
       "<table class=\"simpletable\">\n",
       "<tr>\n",
       "          <td></td>            <th>coef</th>     <th>std err</th>      <th>t</th>      <th>P>|t|</th>  <th>[0.025</th>    <th>0.975]</th>  \n",
       "</tr>\n",
       "<tr>\n",
       "  <th>SqFtTotLiving</th>    <td>  318.8281</td> <td>    1.432</td> <td>  222.699</td> <td> 0.000</td> <td>  316.022</td> <td>  321.634</td>\n",
       "</tr>\n",
       "<tr>\n",
       "  <th>SqFtOpenPorch</th>    <td>  125.4148</td> <td>   19.159</td> <td>    6.546</td> <td> 0.000</td> <td>   87.862</td> <td>  162.967</td>\n",
       "</tr>\n",
       "<tr>\n",
       "  <th>FinBasementGrade</th> <td> 1.392e+04</td> <td>  591.080</td> <td>   23.551</td> <td> 0.000</td> <td> 1.28e+04</td> <td> 1.51e+04</td>\n",
       "</tr>\n",
       "<tr>\n",
       "  <th>WfntLocation_6.0</th> <td> 9.998e+05</td> <td> 4.65e+04</td> <td>   21.505</td> <td> 0.000</td> <td> 9.09e+05</td> <td> 1.09e+06</td>\n",
       "</tr>\n",
       "<tr>\n",
       "  <th>WfntLocation_7.0</th> <td> 1.238e+06</td> <td> 7.46e+04</td> <td>   16.591</td> <td> 0.000</td> <td> 1.09e+06</td> <td> 1.38e+06</td>\n",
       "</tr>\n",
       "<tr>\n",
       "  <th>WfntFootage</th>      <td>  337.1626</td> <td>  122.082</td> <td>    2.762</td> <td> 0.006</td> <td>   97.876</td> <td>  576.449</td>\n",
       "</tr>\n",
       "<tr>\n",
       "  <th>WfntLocation_3.0</th> <td> 3.564e+05</td> <td> 3.76e+04</td> <td>    9.472</td> <td> 0.000</td> <td> 2.83e+05</td> <td>  4.3e+05</td>\n",
       "</tr>\n",
       "<tr>\n",
       "  <th>WfntLocation_8.0</th> <td> 9.195e+04</td> <td> 3.16e+04</td> <td>    2.913</td> <td> 0.004</td> <td> 3.01e+04</td> <td> 1.54e+05</td>\n",
       "</tr>\n",
       "<tr>\n",
       "  <th>WfntLocation_5.0</th> <td> 8.803e+05</td> <td> 1.26e+05</td> <td>    7.013</td> <td> 0.000</td> <td> 6.34e+05</td> <td> 1.13e+06</td>\n",
       "</tr>\n",
       "<tr>\n",
       "  <th>WfntLocation_9.0</th> <td>-3077.7470</td> <td> 4.81e+04</td> <td>   -0.064</td> <td> 0.949</td> <td>-9.74e+04</td> <td> 9.12e+04</td>\n",
       "</tr>\n",
       "<tr>\n",
       "  <th>WfntLocation_4.0</th> <td> 3.512e+05</td> <td> 3.32e+05</td> <td>    1.059</td> <td> 0.290</td> <td>-2.99e+05</td> <td>    1e+06</td>\n",
       "</tr>\n",
       "</table>\n",
       "<table class=\"simpletable\">\n",
       "<tr>\n",
       "  <th>Omnibus:</th>       <td>5791.509</td> <th>  Durbin-Watson:     </th> <td>   1.962</td> \n",
       "</tr>\n",
       "<tr>\n",
       "  <th>Prob(Omnibus):</th>  <td> 0.000</td>  <th>  Jarque-Bera (JB):  </th> <td>25429.609</td>\n",
       "</tr>\n",
       "<tr>\n",
       "  <th>Skew:</th>           <td> 1.035</td>  <th>  Prob(JB):          </th> <td>    0.00</td> \n",
       "</tr>\n",
       "<tr>\n",
       "  <th>Kurtosis:</th>       <td> 7.390</td>  <th>  Cond. No.          </th> <td>3.79e+05</td> \n",
       "</tr>\n",
       "</table><br/><br/>Warnings:<br/>[1] Standard Errors assume that the covariance matrix of the errors is correctly specified.<br/>[2] The condition number is large, 3.79e+05. This might indicate that there are<br/>strong multicollinearity or other numerical problems."
      ],
      "text/plain": [
       "<class 'statsmodels.iolib.summary.Summary'>\n",
       "\"\"\"\n",
       "                                 OLS Regression Results                                \n",
       "=======================================================================================\n",
       "Dep. Variable:              SalePrice   R-squared (uncentered):                   0.857\n",
       "Model:                            OLS   Adj. R-squared (uncentered):              0.857\n",
       "Method:                 Least Squares   F-statistic:                          1.409e+04\n",
       "Date:                Sun, 04 Oct 2020   Prob (F-statistic):                        0.00\n",
       "Time:                        18:38:55   Log-Likelihood:                     -3.6602e+05\n",
       "No. Observations:               25903   AIC:                                  7.321e+05\n",
       "Df Residuals:                   25892   BIC:                                  7.322e+05\n",
       "Df Model:                          11                                                  \n",
       "Covariance Type:            nonrobust                                                  \n",
       "====================================================================================\n",
       "                       coef    std err          t      P>|t|      [0.025      0.975]\n",
       "------------------------------------------------------------------------------------\n",
       "SqFtTotLiving      318.8281      1.432    222.699      0.000     316.022     321.634\n",
       "SqFtOpenPorch      125.4148     19.159      6.546      0.000      87.862     162.967\n",
       "FinBasementGrade  1.392e+04    591.080     23.551      0.000    1.28e+04    1.51e+04\n",
       "WfntLocation_6.0  9.998e+05   4.65e+04     21.505      0.000    9.09e+05    1.09e+06\n",
       "WfntLocation_7.0  1.238e+06   7.46e+04     16.591      0.000    1.09e+06    1.38e+06\n",
       "WfntFootage        337.1626    122.082      2.762      0.006      97.876     576.449\n",
       "WfntLocation_3.0  3.564e+05   3.76e+04      9.472      0.000    2.83e+05     4.3e+05\n",
       "WfntLocation_8.0  9.195e+04   3.16e+04      2.913      0.004    3.01e+04    1.54e+05\n",
       "WfntLocation_5.0  8.803e+05   1.26e+05      7.013      0.000    6.34e+05    1.13e+06\n",
       "WfntLocation_9.0 -3077.7470   4.81e+04     -0.064      0.949   -9.74e+04    9.12e+04\n",
       "WfntLocation_4.0  3.512e+05   3.32e+05      1.059      0.290   -2.99e+05       1e+06\n",
       "==============================================================================\n",
       "Omnibus:                     5791.509   Durbin-Watson:                   1.962\n",
       "Prob(Omnibus):                  0.000   Jarque-Bera (JB):            25429.609\n",
       "Skew:                           1.035   Prob(JB):                         0.00\n",
       "Kurtosis:                       7.390   Cond. No.                     3.79e+05\n",
       "==============================================================================\n",
       "\n",
       "Warnings:\n",
       "[1] Standard Errors assume that the covariance matrix of the errors is correctly specified.\n",
       "[2] The condition number is large, 3.79e+05. This might indicate that there are\n",
       "strong multicollinearity or other numerical problems.\n",
       "\"\"\""
      ]
     },
     "execution_count": 127,
     "metadata": {},
     "output_type": "execute_result"
    }
   ],
   "source": [
    "summary, third_model = model_summary(df,'SalePrice', top_corr)\n",
    "summary"
   ]
  },
  {
   "cell_type": "markdown",
   "metadata": {},
   "source": [
    "### Linearity"
   ]
  },
  {
   "cell_type": "code",
   "execution_count": 128,
   "metadata": {},
   "outputs": [
    {
     "name": "stdout",
     "output_type": "stream",
     "text": [
      "Rainbow statistic: 1.0022942204388814\n",
      "Rainbow p-value: 0.4481392283725075\n"
     ]
    }
   ],
   "source": [
    "rainbow_statistic, rainbow_p_value = linear_rainbow(third_model)\n",
    "print(\"Rainbow statistic:\", rainbow_statistic)\n",
    "print(\"Rainbow p-value:\", rainbow_p_value)"
   ]
  },
  {
   "cell_type": "markdown",
   "metadata": {},
   "source": [
    "### Normality "
   ]
  },
  {
   "cell_type": "code",
   "execution_count": 129,
   "metadata": {},
   "outputs": [
    {
     "name": "stdout",
     "output_type": "stream",
     "text": [
      "jarque_bera: 25429.6093881988\n",
      "jarque_bera: 0.0\n"
     ]
    },
    {
     "data": {
      "image/png": "[encoded data removed]",
      "text/plain": [
       "<Figure size 432x288 with 1 Axes>"
      ]
     },
     "metadata": {
      "needs_background": "light"
     },
     "output_type": "display_data"
    }
   ],
   "source": [
    "jarque_bera = list(sms.jarque_bera(third_model.resid))[0]\n",
    "Prob_JB =list(sms.jarque_bera(third_model.resid))[1]\n",
    "print(f'jarque_bera: {jarque_bera }')\n",
    "print(f'jarque_bera: {Prob_JB}')\n",
    "\n",
    "third_model_resids = third_model.resid\n",
    "sm.qqplot(third_model_resids);"
   ]
  },
  {
   "cell_type": "markdown",
   "metadata": {},
   "source": [
    "### Homoscadasticity"
   ]
  },
  {
   "cell_type": "code",
   "execution_count": 130,
   "metadata": {},
   "outputs": [
    {
     "data": {
      "image/png": "[encoded data removed]",
      "text/plain": [
       "<Figure size 432x288 with 1 Axes>"
      ]
     },
     "metadata": {
      "needs_background": "light"
     },
     "output_type": "display_data"
    }
   ],
   "source": [
    "y_hat = third_model.predict()\n",
    "\n",
    "fig, ax = plt.subplots()\n",
    "ax.set(xlabel=\"Predicted Selling Price\",\n",
    "        ylabel=\"Residuals (Actual - Predicted Selling Price\")\n",
    "ax.scatter(y_hat, third_model_resids);"
   ]
  },
  {
   "cell_type": "markdown",
   "metadata": {},
   "source": [
    "### Independence"
   ]
  },
  {
   "cell_type": "code",
   "execution_count": 131,
   "metadata": {},
   "outputs": [],
   "source": [
    "rows = df[top_corr].values"
   ]
  },
  {
   "cell_type": "code",
   "execution_count": 132,
   "metadata": {},
   "outputs": [
    {
     "data": {
      "text/html": [
       "<div>\n",
       "<style scoped>\n",
       "    .dataframe tbody tr th:only-of-type {\n",
       "        vertical-align: middle;\n",
       "    }\n",
       "\n",
       "    .dataframe tbody tr th {\n",
       "        vertical-align: top;\n",
       "    }\n",
       "\n",
       "    .dataframe thead th {\n",
       "        text-align: right;\n",
       "    }\n",
       "</style>\n",
       "<table border=\"1\" class=\"dataframe\">\n",
       "  <thead>\n",
       "    <tr style=\"text-align: right;\">\n",
       "      <th></th>\n",
       "      <th>VIF</th>\n",
       "      <th>feature</th>\n",
       "    </tr>\n",
       "  </thead>\n",
       "  <tbody>\n",
       "    <tr>\n",
       "      <th>0</th>\n",
       "      <td>2.668606</td>\n",
       "      <td>SqFtTotLiving</td>\n",
       "    </tr>\n",
       "    <tr>\n",
       "      <th>1</th>\n",
       "      <td>1.725518</td>\n",
       "      <td>SqFtOpenPorch</td>\n",
       "    </tr>\n",
       "    <tr>\n",
       "      <th>2</th>\n",
       "      <td>1.750090</td>\n",
       "      <td>FinBasementGrade</td>\n",
       "    </tr>\n",
       "    <tr>\n",
       "      <th>3</th>\n",
       "      <td>1.022329</td>\n",
       "      <td>WfntLocation_6.0</td>\n",
       "    </tr>\n",
       "    <tr>\n",
       "      <th>4</th>\n",
       "      <td>1.012027</td>\n",
       "      <td>WfntLocation_7.0</td>\n",
       "    </tr>\n",
       "    <tr>\n",
       "      <th>5</th>\n",
       "      <td>1.638109</td>\n",
       "      <td>WfntFootage</td>\n",
       "    </tr>\n",
       "    <tr>\n",
       "      <th>6</th>\n",
       "      <td>1.068626</td>\n",
       "      <td>WfntLocation_3.0</td>\n",
       "    </tr>\n",
       "    <tr>\n",
       "      <th>7</th>\n",
       "      <td>1.096155</td>\n",
       "      <td>WfntLocation_8.0</td>\n",
       "    </tr>\n",
       "    <tr>\n",
       "      <th>8</th>\n",
       "      <td>1.003131</td>\n",
       "      <td>WfntLocation_5.0</td>\n",
       "    </tr>\n",
       "    <tr>\n",
       "      <th>9</th>\n",
       "      <td>1.453172</td>\n",
       "      <td>WfntLocation_9.0</td>\n",
       "    </tr>\n",
       "    <tr>\n",
       "      <th>10</th>\n",
       "      <td>1.000414</td>\n",
       "      <td>WfntLocation_4.0</td>\n",
       "    </tr>\n",
       "  </tbody>\n",
       "</table>\n",
       "</div>"
      ],
      "text/plain": [
       "         VIF           feature\n",
       "0   2.668606     SqFtTotLiving\n",
       "1   1.725518     SqFtOpenPorch\n",
       "2   1.750090  FinBasementGrade\n",
       "3   1.022329  WfntLocation_6.0\n",
       "4   1.012027  WfntLocation_7.0\n",
       "5   1.638109       WfntFootage\n",
       "6   1.068626  WfntLocation_3.0\n",
       "7   1.096155  WfntLocation_8.0\n",
       "8   1.003131  WfntLocation_5.0\n",
       "9   1.453172  WfntLocation_9.0\n",
       "10  1.000414  WfntLocation_4.0"
      ]
     },
     "execution_count": 132,
     "metadata": {},
     "output_type": "execute_result"
    }
   ],
   "source": [
    "rows = df[top_corr].values\n",
    "\n",
    "vif_df_third = pd.DataFrame()\n",
    "vif_df_third[\"VIF\"] = [variance_inflation_factor(rows, i) for i in range(len(top_corr))]\n",
    "vif_df_third[\"feature\"] = top_corr\n",
    "\n",
    "vif_df_third"
   ]
  },
  {
   "cell_type": "code",
   "execution_count": null,
   "metadata": {},
   "outputs": [],
   "source": []
  }
 ],
 "metadata": {
  "kernelspec": {
   "display_name": "Python 3",
   "language": "python",
   "name": "python3"
  },
  "language_info": {
   "codemirror_mode": {
    "name": "ipython",
    "version": 3
   },
   "file_extension": ".py",
   "mimetype": "text/x-python",
   "name": "python",
   "nbconvert_exporter": "python",
   "pygments_lexer": "ipython3",
   "version": "3.8.3"
  }
 },
 "nbformat": 4,
 "nbformat_minor": 4
}
