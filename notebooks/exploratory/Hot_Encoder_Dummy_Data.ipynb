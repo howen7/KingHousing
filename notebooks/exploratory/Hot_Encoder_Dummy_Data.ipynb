{
 "cells": [
  {
   "cell_type": "code",
   "execution_count": 17,
   "metadata": {},
   "outputs": [],
   "source": [
    "import pandas as pd\n",
    "import numpy as np\n",
    "import json\n",
    "\n",
    "import matplotlib.pyplot as plt\n",
    "import seaborn as sns\n",
    "\n",
    "import statsmodels.api as sm\n",
    "from statsmodels.formula.api import ols\n",
    "from statsmodels.stats.diagnostic import linear_rainbow, het_breuschpagan\n",
    "from statsmodels.stats.outliers_influence import variance_inflation_factor\n",
    "\n",
    "from sklearn.preprocessing import LabelEncoder\n",
    "from sklearn.preprocessing import OneHotEncoder"
   ]
  },
  {
   "cell_type": "code",
   "execution_count": 18,
   "metadata": {},
   "outputs": [],
   "source": [
    "df = pd.read_json('../Data/combined.json')"
   ]
  },
  {
   "cell_type": "code",
   "execution_count": null,
   "metadata": {},
   "outputs": [],
   "source": [
    "#are these new var we added categorical"
   ]
  },
  {
   "cell_type": "code",
   "execution_count": 15,
   "metadata": {},
   "outputs": [
    {
     "data": {
      "text/plain": [
       "Index(['DocumentDate', 'SalePrice', 'PropertyType', 'Area', 'SqFtLot',\n",
       "       'LakeWashington', 'LakeSammamish', 'SmallLakeRiverCreek',\n",
       "       'WfntLocation', 'WfntFootage', 'WfntBank', 'WfntPoorQuality',\n",
       "       'WfntRestrictedAccess', 'TidelandShoreland', 'TrafficNoise',\n",
       "       'PowerLines', 'OtherNuisances', 'SqFtTotLiving', 'SqFtDeck',\n",
       "       'SqFtOpenPorch', 'Condition'],\n",
       "      dtype='object')"
      ]
     },
     "execution_count": 15,
     "metadata": {},
     "output_type": "execute_result"
    }
   ],
   "source": [
    "df.columns"
   ]
  },
  {
   "cell_type": "code",
   "execution_count": 7,
   "metadata": {},
   "outputs": [
    {
     "data": {
      "text/html": [
       "<div>\n",
       "<style scoped>\n",
       "    .dataframe tbody tr th:only-of-type {\n",
       "        vertical-align: middle;\n",
       "    }\n",
       "\n",
       "    .dataframe tbody tr th {\n",
       "        vertical-align: top;\n",
       "    }\n",
       "\n",
       "    .dataframe thead th {\n",
       "        text-align: right;\n",
       "    }\n",
       "</style>\n",
       "<table border=\"1\" class=\"dataframe\">\n",
       "  <thead>\n",
       "    <tr style=\"text-align: right;\">\n",
       "      <th></th>\n",
       "      <th>DocumentDate</th>\n",
       "      <th>SalePrice</th>\n",
       "      <th>PropertyType</th>\n",
       "      <th>Area</th>\n",
       "      <th>SqFtLot</th>\n",
       "      <th>LakeWashington</th>\n",
       "      <th>LakeSammamish</th>\n",
       "      <th>SmallLakeRiverCreek</th>\n",
       "      <th>WfntLocation</th>\n",
       "      <th>WfntFootage</th>\n",
       "      <th>...</th>\n",
       "      <th>WfntPoorQuality</th>\n",
       "      <th>WfntRestrictedAccess</th>\n",
       "      <th>TidelandShoreland</th>\n",
       "      <th>TrafficNoise</th>\n",
       "      <th>PowerLines</th>\n",
       "      <th>OtherNuisances</th>\n",
       "      <th>SqFtTotLiving</th>\n",
       "      <th>SqFtDeck</th>\n",
       "      <th>SqFtOpenPorch</th>\n",
       "      <th>Condition</th>\n",
       "    </tr>\n",
       "  </thead>\n",
       "  <tbody>\n",
       "    <tr>\n",
       "      <th>8576000260</th>\n",
       "      <td>1546300800000</td>\n",
       "      <td>583950</td>\n",
       "      <td>2</td>\n",
       "      <td>57</td>\n",
       "      <td>5944</td>\n",
       "      <td>0</td>\n",
       "      <td>0</td>\n",
       "      <td>0</td>\n",
       "      <td>0</td>\n",
       "      <td>0</td>\n",
       "      <td>...</td>\n",
       "      <td>0</td>\n",
       "      <td>0</td>\n",
       "      <td>0</td>\n",
       "      <td>0</td>\n",
       "      <td>N</td>\n",
       "      <td>N</td>\n",
       "      <td>3270</td>\n",
       "      <td>0</td>\n",
       "      <td>250</td>\n",
       "      <td>3</td>\n",
       "    </tr>\n",
       "    <tr>\n",
       "      <th>7691000060</th>\n",
       "      <td>1546300800000</td>\n",
       "      <td>539950</td>\n",
       "      <td>2</td>\n",
       "      <td>41</td>\n",
       "      <td>8389</td>\n",
       "      <td>0</td>\n",
       "      <td>0</td>\n",
       "      <td>0</td>\n",
       "      <td>0</td>\n",
       "      <td>0</td>\n",
       "      <td>...</td>\n",
       "      <td>0</td>\n",
       "      <td>0</td>\n",
       "      <td>0</td>\n",
       "      <td>0</td>\n",
       "      <td>N</td>\n",
       "      <td>N</td>\n",
       "      <td>3200</td>\n",
       "      <td>0</td>\n",
       "      <td>0</td>\n",
       "      <td>3</td>\n",
       "    </tr>\n",
       "    <tr>\n",
       "      <th>53300380</th>\n",
       "      <td>1546300800000</td>\n",
       "      <td>642950</td>\n",
       "      <td>2</td>\n",
       "      <td>51</td>\n",
       "      <td>4000</td>\n",
       "      <td>0</td>\n",
       "      <td>0</td>\n",
       "      <td>0</td>\n",
       "      <td>0</td>\n",
       "      <td>0</td>\n",
       "      <td>...</td>\n",
       "      <td>0</td>\n",
       "      <td>0</td>\n",
       "      <td>0</td>\n",
       "      <td>0</td>\n",
       "      <td>N</td>\n",
       "      <td>N</td>\n",
       "      <td>2487</td>\n",
       "      <td>0</td>\n",
       "      <td>45</td>\n",
       "      <td>3</td>\n",
       "    </tr>\n",
       "    <tr>\n",
       "      <th>2525059126</th>\n",
       "      <td>1546300800000</td>\n",
       "      <td>541000</td>\n",
       "      <td>11</td>\n",
       "      <td>91</td>\n",
       "      <td>13503</td>\n",
       "      <td>0</td>\n",
       "      <td>0</td>\n",
       "      <td>0</td>\n",
       "      <td>0</td>\n",
       "      <td>0</td>\n",
       "      <td>...</td>\n",
       "      <td>0</td>\n",
       "      <td>0</td>\n",
       "      <td>0</td>\n",
       "      <td>0</td>\n",
       "      <td>N</td>\n",
       "      <td>N</td>\n",
       "      <td>1030</td>\n",
       "      <td>0</td>\n",
       "      <td>210</td>\n",
       "      <td>4</td>\n",
       "    </tr>\n",
       "    <tr>\n",
       "      <th>53300290</th>\n",
       "      <td>1546300800000</td>\n",
       "      <td>647950</td>\n",
       "      <td>2</td>\n",
       "      <td>51</td>\n",
       "      <td>5362</td>\n",
       "      <td>0</td>\n",
       "      <td>0</td>\n",
       "      <td>0</td>\n",
       "      <td>0</td>\n",
       "      <td>0</td>\n",
       "      <td>...</td>\n",
       "      <td>0</td>\n",
       "      <td>0</td>\n",
       "      <td>0</td>\n",
       "      <td>0</td>\n",
       "      <td>N</td>\n",
       "      <td>N</td>\n",
       "      <td>2487</td>\n",
       "      <td>0</td>\n",
       "      <td>45</td>\n",
       "      <td>3</td>\n",
       "    </tr>\n",
       "  </tbody>\n",
       "</table>\n",
       "<p>5 rows × 21 columns</p>\n",
       "</div>"
      ],
      "text/plain": [
       "             DocumentDate  SalePrice  PropertyType  Area  SqFtLot  \\\n",
       "8576000260  1546300800000     583950             2    57     5944   \n",
       "7691000060  1546300800000     539950             2    41     8389   \n",
       "53300380    1546300800000     642950             2    51     4000   \n",
       "2525059126  1546300800000     541000            11    91    13503   \n",
       "53300290    1546300800000     647950             2    51     5362   \n",
       "\n",
       "            LakeWashington  LakeSammamish  SmallLakeRiverCreek  WfntLocation  \\\n",
       "8576000260               0              0                    0             0   \n",
       "7691000060               0              0                    0             0   \n",
       "53300380                 0              0                    0             0   \n",
       "2525059126               0              0                    0             0   \n",
       "53300290                 0              0                    0             0   \n",
       "\n",
       "            WfntFootage  ...  WfntPoorQuality  WfntRestrictedAccess  \\\n",
       "8576000260            0  ...                0                     0   \n",
       "7691000060            0  ...                0                     0   \n",
       "53300380              0  ...                0                     0   \n",
       "2525059126            0  ...                0                     0   \n",
       "53300290              0  ...                0                     0   \n",
       "\n",
       "            TidelandShoreland  TrafficNoise  PowerLines OtherNuisances  \\\n",
       "8576000260                  0             0           N              N   \n",
       "7691000060                  0             0           N              N   \n",
       "53300380                    0             0           N              N   \n",
       "2525059126                  0             0           N              N   \n",
       "53300290                    0             0           N              N   \n",
       "\n",
       "           SqFtTotLiving  SqFtDeck  SqFtOpenPorch  Condition  \n",
       "8576000260          3270         0            250          3  \n",
       "7691000060          3200         0              0          3  \n",
       "53300380            2487         0             45          3  \n",
       "2525059126          1030         0            210          4  \n",
       "53300290            2487         0             45          3  \n",
       "\n",
       "[5 rows x 21 columns]"
      ]
     },
     "execution_count": 7,
     "metadata": {},
     "output_type": "execute_result"
    }
   ],
   "source": [
    "cat_var = ['PropertyType', 'LakeWashington', 'LakeSammamish',\n",
    "'SmallLakeRiverCreek', 'WfntLocation', 'WfntBank', 'WfntPoorQuality', 'WfntRestrictedAccess',\n",
    "'TidelandShoreland', 'TrafficNoise', 'PowerLines', 'OtherNuisances', 'Condition']"
   ]
  },
  {
   "cell_type": "code",
   "execution_count": 8,
   "metadata": {},
   "outputs": [],
   "source": [
    "ohe = OneHotEncoder(drop='first')\n",
    "comma_trans = ohe.fit_transform(comma_use.drop('', axis=1))"
   ]
  },
  {
   "cell_type": "code",
   "execution_count": 11,
   "metadata": {},
   "outputs": [
    {
     "data": {
      "text/plain": [
       "matrix([[0., 0., 0., ..., 1., 0., 0.],\n",
       "        [0., 0., 0., ..., 1., 0., 0.],\n",
       "        [0., 0., 0., ..., 1., 0., 0.],\n",
       "        ...,\n",
       "        [0., 0., 0., ..., 0., 0., 0.],\n",
       "        [0., 0., 0., ..., 1., 0., 0.],\n",
       "        [0., 0., 0., ..., 1., 0., 0.]])"
      ]
     },
     "execution_count": 11,
     "metadata": {},
     "output_type": "execute_result"
    }
   ],
   "source": [
    "comma_trans.todense()"
   ]
  },
  {
   "cell_type": "code",
   "execution_count": 12,
   "metadata": {},
   "outputs": [
    {
     "data": {
      "text/plain": [
       "array(['x0_1546387200000', 'x0_1546473600000', 'x0_1546560000000', ...,\n",
       "       'x20_3', 'x20_4', 'x20_5'], dtype=object)"
      ]
     },
     "execution_count": 12,
     "metadata": {},
     "output_type": "execute_result"
    }
   ],
   "source": [
    "ohe.get_feature_names()"
   ]
  },
  {
   "cell_type": "code",
   "execution_count": 14,
   "metadata": {},
   "outputs": [
    {
     "data": {
      "text/plain": [
       "(26955, 21)"
      ]
     },
     "execution_count": 14,
     "metadata": {},
     "output_type": "execute_result"
    }
   ],
   "source": [
    "df.shape"
   ]
  },
  {
   "cell_type": "code",
   "execution_count": 19,
   "metadata": {},
   "outputs": [
    {
     "ename": "AttributeError",
     "evalue": "module 'seaborn' has no attribute 'displot'",
     "output_type": "error",
     "traceback": [
      "\u001b[0;31m---------------------------------------------------------------------------\u001b[0m",
      "\u001b[0;31mAttributeError\u001b[0m                            Traceback (most recent call last)",
      "\u001b[0;32m<ipython-input-19-0387ec1826fb>\u001b[0m in \u001b[0;36m<module>\u001b[0;34m()\u001b[0m\n\u001b[0;32m----> 1\u001b[0;31m \u001b[0msns\u001b[0m\u001b[0;34m.\u001b[0m\u001b[0mdisplot\u001b[0m\u001b[0;34m(\u001b[0m\u001b[0mdf\u001b[0m\u001b[0;34m,\u001b[0m \u001b[0mx\u001b[0m\u001b[0;34m=\u001b[0m\u001b[0;34m\"SalePrice\"\u001b[0m\u001b[0;34m,\u001b[0m \u001b[0mkind\u001b[0m\u001b[0;34m=\u001b[0m\u001b[0;34m\"kde\"\u001b[0m\u001b[0;34m)\u001b[0m\u001b[0;34m\u001b[0m\u001b[0;34m\u001b[0m\u001b[0m\n\u001b[0m",
      "\u001b[0;31mAttributeError\u001b[0m: module 'seaborn' has no attribute 'displot'"
     ]
    }
   ],
   "source": [
    "sns.displot(df, x=\"SalePrice\", kind=\"kde\")"
   ]
  },
  {
   "cell_type": "code",
   "execution_count": null,
   "metadata": {},
   "outputs": [],
   "source": []
  }
 ],
 "metadata": {
  "kernelspec": {
   "display_name": "learn-env",
   "language": "python",
   "name": "learn-env"
  },
  "language_info": {
   "codemirror_mode": {
    "name": "ipython",
    "version": 3
   },
   "file_extension": ".py",
   "mimetype": "text/x-python",
   "name": "python",
   "nbconvert_exporter": "python",
   "pygments_lexer": "ipython3",
   "version": "3.6.9"
  }
 },
 "nbformat": 4,
 "nbformat_minor": 4
}
