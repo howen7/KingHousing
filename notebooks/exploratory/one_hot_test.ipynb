{
 "cells": [
  {
   "cell_type": "code",
   "execution_count": 2,
   "metadata": {},
   "outputs": [],
   "source": [
    "import pandas as pd\n",
    "import numpy as np\n",
    "import json\n",
    "\n",
    "import matplotlib.pyplot as plt\n",
    "import seaborn as sns\n",
    "\n",
    "import statsmodels.api as sm\n",
    "from statsmodels.formula.api import ols\n",
    "from statsmodels.stats.diagnostic import linear_rainbow, het_breuschpagan\n",
    "from statsmodels.stats.outliers_influence import variance_inflation_factor\n",
    "from sklearn.preprocessing import OneHotEncoder\n",
    "from sklearn.preprocessing import LabelEncoder\n",
    "\n",
    "%load_ext autoreload\n",
    "%autoreload 2\n",
    "\n",
    "import os\n",
    "import sys\n",
    "module_path = os.path.abspath(os.path.join(os.pardir, os.pardir))\n",
    "if module_path not in sys.path:\n",
    "    sys.path.append(module_path)"
   ]
  },
  {
   "cell_type": "code",
   "execution_count": 5,
   "metadata": {},
   "outputs": [],
   "source": [
    "df = pd.read_json('../Data/combined.json')"
   ]
  },
  {
   "cell_type": "code",
   "execution_count": 6,
   "metadata": {},
   "outputs": [],
   "source": [
    "from sklearn.preprocessing import OneHotEncoder\n",
    "\n",
    "ohe = OneHotEncoder(drop='first')\n",
    "catagory = ohe.fit_transform(df.drop(['SalePrice',\n",
    " 'SqFtTotLiving',\n",
    " 'SqFtDeck',\n",
    " 'SqFtOpenPorch',\n",
    " 'Area',\n",
    " 'SqFtLot',\n",
    " 'WfntFootage'],axis=1))"
   ]
  },
  {
   "cell_type": "code",
   "execution_count": 7,
   "metadata": {},
   "outputs": [],
   "source": [
    "column_names = ohe.get_feature_names([ 'PropertyType',\n",
    " 'LakeWashington',\n",
    " 'LakeSammamish',\n",
    " 'SmallLakeRiverCreek',\n",
    " 'WfntLocation',\n",
    " 'WfntBank',\n",
    " 'WfntPoorQuality',\n",
    " 'WfntRestrictedAccess',\n",
    " 'TidelandShoreland',\n",
    " 'Bedrooms',\n",
    " 'BathFullCount',\n",
    " 'FinBasementGrade'])"
   ]
  },
  {
   "cell_type": "code",
   "execution_count": 8,
   "metadata": {},
   "outputs": [
    {
     "data": {
      "text/html": [
       "<div>\n",
       "<style scoped>\n",
       "    .dataframe tbody tr th:only-of-type {\n",
       "        vertical-align: middle;\n",
       "    }\n",
       "\n",
       "    .dataframe tbody tr th {\n",
       "        vertical-align: top;\n",
       "    }\n",
       "\n",
       "    .dataframe thead th {\n",
       "        text-align: right;\n",
       "    }\n",
       "</style>\n",
       "<table border=\"1\" class=\"dataframe\">\n",
       "  <thead>\n",
       "    <tr style=\"text-align: right;\">\n",
       "      <th></th>\n",
       "      <th>PropertyType_3</th>\n",
       "      <th>PropertyType_11</th>\n",
       "      <th>LakeWashington_1</th>\n",
       "      <th>LakeWashington_2</th>\n",
       "      <th>LakeWashington_3</th>\n",
       "      <th>LakeWashington_4</th>\n",
       "      <th>LakeSammamish_1</th>\n",
       "      <th>LakeSammamish_2</th>\n",
       "      <th>LakeSammamish_3</th>\n",
       "      <th>LakeSammamish_4</th>\n",
       "      <th>...</th>\n",
       "      <th>FinBasementGrade_3</th>\n",
       "      <th>FinBasementGrade_4</th>\n",
       "      <th>FinBasementGrade_5</th>\n",
       "      <th>FinBasementGrade_6</th>\n",
       "      <th>FinBasementGrade_7</th>\n",
       "      <th>FinBasementGrade_8</th>\n",
       "      <th>FinBasementGrade_9</th>\n",
       "      <th>FinBasementGrade_10</th>\n",
       "      <th>FinBasementGrade_11</th>\n",
       "      <th>FinBasementGrade_12</th>\n",
       "    </tr>\n",
       "  </thead>\n",
       "  <tbody>\n",
       "    <tr>\n",
       "      <th>1085621070</th>\n",
       "      <td>0.0</td>\n",
       "      <td>0.0</td>\n",
       "      <td>0.0</td>\n",
       "      <td>0.0</td>\n",
       "      <td>0.0</td>\n",
       "      <td>0.0</td>\n",
       "      <td>0.0</td>\n",
       "      <td>0.0</td>\n",
       "      <td>0.0</td>\n",
       "      <td>0.0</td>\n",
       "      <td>...</td>\n",
       "      <td>0.0</td>\n",
       "      <td>0.0</td>\n",
       "      <td>0.0</td>\n",
       "      <td>0.0</td>\n",
       "      <td>0.0</td>\n",
       "      <td>0.0</td>\n",
       "      <td>0.0</td>\n",
       "      <td>0.0</td>\n",
       "      <td>0.0</td>\n",
       "      <td>0.0</td>\n",
       "    </tr>\n",
       "    <tr>\n",
       "      <th>9577910050</th>\n",
       "      <td>0.0</td>\n",
       "      <td>0.0</td>\n",
       "      <td>0.0</td>\n",
       "      <td>0.0</td>\n",
       "      <td>0.0</td>\n",
       "      <td>0.0</td>\n",
       "      <td>0.0</td>\n",
       "      <td>0.0</td>\n",
       "      <td>0.0</td>\n",
       "      <td>0.0</td>\n",
       "      <td>...</td>\n",
       "      <td>0.0</td>\n",
       "      <td>0.0</td>\n",
       "      <td>0.0</td>\n",
       "      <td>0.0</td>\n",
       "      <td>0.0</td>\n",
       "      <td>0.0</td>\n",
       "      <td>0.0</td>\n",
       "      <td>0.0</td>\n",
       "      <td>0.0</td>\n",
       "      <td>0.0</td>\n",
       "    </tr>\n",
       "    <tr>\n",
       "      <th>9577910070</th>\n",
       "      <td>0.0</td>\n",
       "      <td>0.0</td>\n",
       "      <td>0.0</td>\n",
       "      <td>0.0</td>\n",
       "      <td>0.0</td>\n",
       "      <td>0.0</td>\n",
       "      <td>0.0</td>\n",
       "      <td>0.0</td>\n",
       "      <td>0.0</td>\n",
       "      <td>0.0</td>\n",
       "      <td>...</td>\n",
       "      <td>0.0</td>\n",
       "      <td>0.0</td>\n",
       "      <td>0.0</td>\n",
       "      <td>0.0</td>\n",
       "      <td>0.0</td>\n",
       "      <td>0.0</td>\n",
       "      <td>0.0</td>\n",
       "      <td>0.0</td>\n",
       "      <td>0.0</td>\n",
       "      <td>0.0</td>\n",
       "    </tr>\n",
       "    <tr>\n",
       "      <th>9577910080</th>\n",
       "      <td>0.0</td>\n",
       "      <td>0.0</td>\n",
       "      <td>0.0</td>\n",
       "      <td>0.0</td>\n",
       "      <td>0.0</td>\n",
       "      <td>0.0</td>\n",
       "      <td>0.0</td>\n",
       "      <td>0.0</td>\n",
       "      <td>0.0</td>\n",
       "      <td>0.0</td>\n",
       "      <td>...</td>\n",
       "      <td>0.0</td>\n",
       "      <td>0.0</td>\n",
       "      <td>0.0</td>\n",
       "      <td>0.0</td>\n",
       "      <td>0.0</td>\n",
       "      <td>0.0</td>\n",
       "      <td>0.0</td>\n",
       "      <td>0.0</td>\n",
       "      <td>0.0</td>\n",
       "      <td>0.0</td>\n",
       "    </tr>\n",
       "    <tr>\n",
       "      <th>2525059126</th>\n",
       "      <td>0.0</td>\n",
       "      <td>1.0</td>\n",
       "      <td>0.0</td>\n",
       "      <td>0.0</td>\n",
       "      <td>0.0</td>\n",
       "      <td>0.0</td>\n",
       "      <td>0.0</td>\n",
       "      <td>0.0</td>\n",
       "      <td>0.0</td>\n",
       "      <td>0.0</td>\n",
       "      <td>...</td>\n",
       "      <td>0.0</td>\n",
       "      <td>0.0</td>\n",
       "      <td>0.0</td>\n",
       "      <td>0.0</td>\n",
       "      <td>0.0</td>\n",
       "      <td>0.0</td>\n",
       "      <td>0.0</td>\n",
       "      <td>0.0</td>\n",
       "      <td>0.0</td>\n",
       "      <td>0.0</td>\n",
       "    </tr>\n",
       "  </tbody>\n",
       "</table>\n",
       "<p>5 rows × 61 columns</p>\n",
       "</div>"
      ],
      "text/plain": [
       "            PropertyType_3  PropertyType_11  LakeWashington_1  \\\n",
       "1085621070             0.0              0.0               0.0   \n",
       "9577910050             0.0              0.0               0.0   \n",
       "9577910070             0.0              0.0               0.0   \n",
       "9577910080             0.0              0.0               0.0   \n",
       "2525059126             0.0              1.0               0.0   \n",
       "\n",
       "            LakeWashington_2  LakeWashington_3  LakeWashington_4  \\\n",
       "1085621070               0.0               0.0               0.0   \n",
       "9577910050               0.0               0.0               0.0   \n",
       "9577910070               0.0               0.0               0.0   \n",
       "9577910080               0.0               0.0               0.0   \n",
       "2525059126               0.0               0.0               0.0   \n",
       "\n",
       "            LakeSammamish_1  LakeSammamish_2  LakeSammamish_3  \\\n",
       "1085621070              0.0              0.0              0.0   \n",
       "9577910050              0.0              0.0              0.0   \n",
       "9577910070              0.0              0.0              0.0   \n",
       "9577910080              0.0              0.0              0.0   \n",
       "2525059126              0.0              0.0              0.0   \n",
       "\n",
       "            LakeSammamish_4  ...  FinBasementGrade_3  FinBasementGrade_4  \\\n",
       "1085621070              0.0  ...                 0.0                 0.0   \n",
       "9577910050              0.0  ...                 0.0                 0.0   \n",
       "9577910070              0.0  ...                 0.0                 0.0   \n",
       "9577910080              0.0  ...                 0.0                 0.0   \n",
       "2525059126              0.0  ...                 0.0                 0.0   \n",
       "\n",
       "            FinBasementGrade_5  FinBasementGrade_6  FinBasementGrade_7  \\\n",
       "1085621070                 0.0                 0.0                 0.0   \n",
       "9577910050                 0.0                 0.0                 0.0   \n",
       "9577910070                 0.0                 0.0                 0.0   \n",
       "9577910080                 0.0                 0.0                 0.0   \n",
       "2525059126                 0.0                 0.0                 0.0   \n",
       "\n",
       "            FinBasementGrade_8  FinBasementGrade_9  FinBasementGrade_10  \\\n",
       "1085621070                 0.0                 0.0                  0.0   \n",
       "9577910050                 0.0                 0.0                  0.0   \n",
       "9577910070                 0.0                 0.0                  0.0   \n",
       "9577910080                 0.0                 0.0                  0.0   \n",
       "2525059126                 0.0                 0.0                  0.0   \n",
       "\n",
       "            FinBasementGrade_11  FinBasementGrade_12  \n",
       "1085621070                  0.0                  0.0  \n",
       "9577910050                  0.0                  0.0  \n",
       "9577910070                  0.0                  0.0  \n",
       "9577910080                  0.0                  0.0  \n",
       "2525059126                  0.0                  0.0  \n",
       "\n",
       "[5 rows x 61 columns]"
      ]
     },
     "execution_count": 8,
     "metadata": {},
     "output_type": "execute_result"
    }
   ],
   "source": [
    "df_cat = pd.DataFrame(catagory.todense(), columns=column_names, index=df.index)\n",
    "df_cat.head()"
   ]
  },
  {
   "cell_type": "code",
   "execution_count": 9,
   "metadata": {},
   "outputs": [],
   "source": [
    "df_cont = df[['SalePrice',\n",
    " 'SqFtTotLiving',\n",
    " 'SqFtDeck',\n",
    " 'SqFtOpenPorch',\n",
    " 'Area',\n",
    " 'SqFtLot',\n",
    " 'WfntFootage']]"
   ]
  },
  {
   "cell_type": "code",
   "execution_count": 10,
   "metadata": {},
   "outputs": [
    {
     "data": {
      "text/html": [
       "<div>\n",
       "<style scoped>\n",
       "    .dataframe tbody tr th:only-of-type {\n",
       "        vertical-align: middle;\n",
       "    }\n",
       "\n",
       "    .dataframe tbody tr th {\n",
       "        vertical-align: top;\n",
       "    }\n",
       "\n",
       "    .dataframe thead th {\n",
       "        text-align: right;\n",
       "    }\n",
       "</style>\n",
       "<table border=\"1\" class=\"dataframe\">\n",
       "  <thead>\n",
       "    <tr style=\"text-align: right;\">\n",
       "      <th></th>\n",
       "      <th>SalePrice</th>\n",
       "      <th>SqFtTotLiving</th>\n",
       "      <th>SqFtDeck</th>\n",
       "      <th>SqFtOpenPorch</th>\n",
       "      <th>Area</th>\n",
       "      <th>SqFtLot</th>\n",
       "      <th>WfntFootage</th>\n",
       "    </tr>\n",
       "  </thead>\n",
       "  <tbody>\n",
       "    <tr>\n",
       "      <th>1085621070</th>\n",
       "      <td>543950</td>\n",
       "      <td>2744</td>\n",
       "      <td>0</td>\n",
       "      <td>56</td>\n",
       "      <td>62</td>\n",
       "      <td>4770</td>\n",
       "      <td>0</td>\n",
       "    </tr>\n",
       "    <tr>\n",
       "      <th>9577910050</th>\n",
       "      <td>609950</td>\n",
       "      <td>3265</td>\n",
       "      <td>0</td>\n",
       "      <td>30</td>\n",
       "      <td>27</td>\n",
       "      <td>7424</td>\n",
       "      <td>0</td>\n",
       "    </tr>\n",
       "    <tr>\n",
       "      <th>9577910070</th>\n",
       "      <td>629950</td>\n",
       "      <td>3341</td>\n",
       "      <td>0</td>\n",
       "      <td>49</td>\n",
       "      <td>27</td>\n",
       "      <td>8527</td>\n",
       "      <td>0</td>\n",
       "    </tr>\n",
       "    <tr>\n",
       "      <th>9577910080</th>\n",
       "      <td>644950</td>\n",
       "      <td>3265</td>\n",
       "      <td>0</td>\n",
       "      <td>30</td>\n",
       "      <td>27</td>\n",
       "      <td>6501</td>\n",
       "      <td>0</td>\n",
       "    </tr>\n",
       "    <tr>\n",
       "      <th>2525059126</th>\n",
       "      <td>541000</td>\n",
       "      <td>1030</td>\n",
       "      <td>0</td>\n",
       "      <td>210</td>\n",
       "      <td>91</td>\n",
       "      <td>13503</td>\n",
       "      <td>0</td>\n",
       "    </tr>\n",
       "    <tr>\n",
       "      <th>...</th>\n",
       "      <td>...</td>\n",
       "      <td>...</td>\n",
       "      <td>...</td>\n",
       "      <td>...</td>\n",
       "      <td>...</td>\n",
       "      <td>...</td>\n",
       "      <td>...</td>\n",
       "    </tr>\n",
       "    <tr>\n",
       "      <th>1625079011</th>\n",
       "      <td>2400000</td>\n",
       "      <td>1260</td>\n",
       "      <td>0</td>\n",
       "      <td>60</td>\n",
       "      <td>94</td>\n",
       "      <td>1644825</td>\n",
       "      <td>1330</td>\n",
       "    </tr>\n",
       "    <tr>\n",
       "      <th>945000570</th>\n",
       "      <td>1150000</td>\n",
       "      <td>2820</td>\n",
       "      <td>220</td>\n",
       "      <td>0</td>\n",
       "      <td>6</td>\n",
       "      <td>4650</td>\n",
       "      <td>0</td>\n",
       "    </tr>\n",
       "    <tr>\n",
       "      <th>9514050600</th>\n",
       "      <td>921000</td>\n",
       "      <td>2280</td>\n",
       "      <td>0</td>\n",
       "      <td>110</td>\n",
       "      <td>35</td>\n",
       "      <td>4197</td>\n",
       "      <td>0</td>\n",
       "    </tr>\n",
       "    <tr>\n",
       "      <th>809001865</th>\n",
       "      <td>890000</td>\n",
       "      <td>1820</td>\n",
       "      <td>0</td>\n",
       "      <td>70</td>\n",
       "      <td>12</td>\n",
       "      <td>4000</td>\n",
       "      <td>0</td>\n",
       "    </tr>\n",
       "    <tr>\n",
       "      <th>7694210140</th>\n",
       "      <td>640000</td>\n",
       "      <td>2450</td>\n",
       "      <td>0</td>\n",
       "      <td>50</td>\n",
       "      <td>23</td>\n",
       "      <td>3863</td>\n",
       "      <td>0</td>\n",
       "    </tr>\n",
       "  </tbody>\n",
       "</table>\n",
       "<p>25903 rows × 7 columns</p>\n",
       "</div>"
      ],
      "text/plain": [
       "            SalePrice  SqFtTotLiving  SqFtDeck  SqFtOpenPorch  Area  SqFtLot  \\\n",
       "1085621070     543950           2744         0             56    62     4770   \n",
       "9577910050     609950           3265         0             30    27     7424   \n",
       "9577910070     629950           3341         0             49    27     8527   \n",
       "9577910080     644950           3265         0             30    27     6501   \n",
       "2525059126     541000           1030         0            210    91    13503   \n",
       "...               ...            ...       ...            ...   ...      ...   \n",
       "1625079011    2400000           1260         0             60    94  1644825   \n",
       "945000570     1150000           2820       220              0     6     4650   \n",
       "9514050600     921000           2280         0            110    35     4197   \n",
       "809001865      890000           1820         0             70    12     4000   \n",
       "7694210140     640000           2450         0             50    23     3863   \n",
       "\n",
       "            WfntFootage  \n",
       "1085621070            0  \n",
       "9577910050            0  \n",
       "9577910070            0  \n",
       "9577910080            0  \n",
       "2525059126            0  \n",
       "...                 ...  \n",
       "1625079011         1330  \n",
       "945000570             0  \n",
       "9514050600            0  \n",
       "809001865             0  \n",
       "7694210140            0  \n",
       "\n",
       "[25903 rows x 7 columns]"
      ]
     },
     "execution_count": 10,
     "metadata": {},
     "output_type": "execute_result"
    }
   ],
   "source": [
    "df_cont"
   ]
  },
  {
   "cell_type": "code",
   "execution_count": 11,
   "metadata": {},
   "outputs": [],
   "source": [
    "df_final = pd.concat([df_cont, df_cat.reindex(df_cont.index)], axis=1)"
   ]
  },
  {
   "cell_type": "code",
   "execution_count": 12,
   "metadata": {},
   "outputs": [
    {
     "data": {
      "text/html": [
       "<div>\n",
       "<style scoped>\n",
       "    .dataframe tbody tr th:only-of-type {\n",
       "        vertical-align: middle;\n",
       "    }\n",
       "\n",
       "    .dataframe tbody tr th {\n",
       "        vertical-align: top;\n",
       "    }\n",
       "\n",
       "    .dataframe thead th {\n",
       "        text-align: right;\n",
       "    }\n",
       "</style>\n",
       "<table border=\"1\" class=\"dataframe\">\n",
       "  <thead>\n",
       "    <tr style=\"text-align: right;\">\n",
       "      <th></th>\n",
       "      <th>SalePrice</th>\n",
       "      <th>SqFtTotLiving</th>\n",
       "      <th>SqFtDeck</th>\n",
       "      <th>SqFtOpenPorch</th>\n",
       "      <th>Area</th>\n",
       "      <th>SqFtLot</th>\n",
       "      <th>WfntFootage</th>\n",
       "      <th>PropertyType_3</th>\n",
       "      <th>PropertyType_11</th>\n",
       "      <th>LakeWashington_1</th>\n",
       "      <th>...</th>\n",
       "      <th>FinBasementGrade_3</th>\n",
       "      <th>FinBasementGrade_4</th>\n",
       "      <th>FinBasementGrade_5</th>\n",
       "      <th>FinBasementGrade_6</th>\n",
       "      <th>FinBasementGrade_7</th>\n",
       "      <th>FinBasementGrade_8</th>\n",
       "      <th>FinBasementGrade_9</th>\n",
       "      <th>FinBasementGrade_10</th>\n",
       "      <th>FinBasementGrade_11</th>\n",
       "      <th>FinBasementGrade_12</th>\n",
       "    </tr>\n",
       "  </thead>\n",
       "  <tbody>\n",
       "    <tr>\n",
       "      <th>1085621070</th>\n",
       "      <td>543950</td>\n",
       "      <td>2744</td>\n",
       "      <td>0</td>\n",
       "      <td>56</td>\n",
       "      <td>62</td>\n",
       "      <td>4770</td>\n",
       "      <td>0</td>\n",
       "      <td>0.0</td>\n",
       "      <td>0.0</td>\n",
       "      <td>0.0</td>\n",
       "      <td>...</td>\n",
       "      <td>0.0</td>\n",
       "      <td>0.0</td>\n",
       "      <td>0.0</td>\n",
       "      <td>0.0</td>\n",
       "      <td>0.0</td>\n",
       "      <td>0.0</td>\n",
       "      <td>0.0</td>\n",
       "      <td>0.0</td>\n",
       "      <td>0.0</td>\n",
       "      <td>0.0</td>\n",
       "    </tr>\n",
       "    <tr>\n",
       "      <th>9577910050</th>\n",
       "      <td>609950</td>\n",
       "      <td>3265</td>\n",
       "      <td>0</td>\n",
       "      <td>30</td>\n",
       "      <td>27</td>\n",
       "      <td>7424</td>\n",
       "      <td>0</td>\n",
       "      <td>0.0</td>\n",
       "      <td>0.0</td>\n",
       "      <td>0.0</td>\n",
       "      <td>...</td>\n",
       "      <td>0.0</td>\n",
       "      <td>0.0</td>\n",
       "      <td>0.0</td>\n",
       "      <td>0.0</td>\n",
       "      <td>0.0</td>\n",
       "      <td>0.0</td>\n",
       "      <td>0.0</td>\n",
       "      <td>0.0</td>\n",
       "      <td>0.0</td>\n",
       "      <td>0.0</td>\n",
       "    </tr>\n",
       "    <tr>\n",
       "      <th>9577910070</th>\n",
       "      <td>629950</td>\n",
       "      <td>3341</td>\n",
       "      <td>0</td>\n",
       "      <td>49</td>\n",
       "      <td>27</td>\n",
       "      <td>8527</td>\n",
       "      <td>0</td>\n",
       "      <td>0.0</td>\n",
       "      <td>0.0</td>\n",
       "      <td>0.0</td>\n",
       "      <td>...</td>\n",
       "      <td>0.0</td>\n",
       "      <td>0.0</td>\n",
       "      <td>0.0</td>\n",
       "      <td>0.0</td>\n",
       "      <td>0.0</td>\n",
       "      <td>0.0</td>\n",
       "      <td>0.0</td>\n",
       "      <td>0.0</td>\n",
       "      <td>0.0</td>\n",
       "      <td>0.0</td>\n",
       "    </tr>\n",
       "    <tr>\n",
       "      <th>9577910080</th>\n",
       "      <td>644950</td>\n",
       "      <td>3265</td>\n",
       "      <td>0</td>\n",
       "      <td>30</td>\n",
       "      <td>27</td>\n",
       "      <td>6501</td>\n",
       "      <td>0</td>\n",
       "      <td>0.0</td>\n",
       "      <td>0.0</td>\n",
       "      <td>0.0</td>\n",
       "      <td>...</td>\n",
       "      <td>0.0</td>\n",
       "      <td>0.0</td>\n",
       "      <td>0.0</td>\n",
       "      <td>0.0</td>\n",
       "      <td>0.0</td>\n",
       "      <td>0.0</td>\n",
       "      <td>0.0</td>\n",
       "      <td>0.0</td>\n",
       "      <td>0.0</td>\n",
       "      <td>0.0</td>\n",
       "    </tr>\n",
       "    <tr>\n",
       "      <th>2525059126</th>\n",
       "      <td>541000</td>\n",
       "      <td>1030</td>\n",
       "      <td>0</td>\n",
       "      <td>210</td>\n",
       "      <td>91</td>\n",
       "      <td>13503</td>\n",
       "      <td>0</td>\n",
       "      <td>0.0</td>\n",
       "      <td>1.0</td>\n",
       "      <td>0.0</td>\n",
       "      <td>...</td>\n",
       "      <td>0.0</td>\n",
       "      <td>0.0</td>\n",
       "      <td>0.0</td>\n",
       "      <td>0.0</td>\n",
       "      <td>0.0</td>\n",
       "      <td>0.0</td>\n",
       "      <td>0.0</td>\n",
       "      <td>0.0</td>\n",
       "      <td>0.0</td>\n",
       "      <td>0.0</td>\n",
       "    </tr>\n",
       "    <tr>\n",
       "      <th>...</th>\n",
       "      <td>...</td>\n",
       "      <td>...</td>\n",
       "      <td>...</td>\n",
       "      <td>...</td>\n",
       "      <td>...</td>\n",
       "      <td>...</td>\n",
       "      <td>...</td>\n",
       "      <td>...</td>\n",
       "      <td>...</td>\n",
       "      <td>...</td>\n",
       "      <td>...</td>\n",
       "      <td>...</td>\n",
       "      <td>...</td>\n",
       "      <td>...</td>\n",
       "      <td>...</td>\n",
       "      <td>...</td>\n",
       "      <td>...</td>\n",
       "      <td>...</td>\n",
       "      <td>...</td>\n",
       "      <td>...</td>\n",
       "      <td>...</td>\n",
       "    </tr>\n",
       "    <tr>\n",
       "      <th>1625079011</th>\n",
       "      <td>2400000</td>\n",
       "      <td>1260</td>\n",
       "      <td>0</td>\n",
       "      <td>60</td>\n",
       "      <td>94</td>\n",
       "      <td>1644825</td>\n",
       "      <td>1330</td>\n",
       "      <td>1.0</td>\n",
       "      <td>0.0</td>\n",
       "      <td>0.0</td>\n",
       "      <td>...</td>\n",
       "      <td>0.0</td>\n",
       "      <td>0.0</td>\n",
       "      <td>0.0</td>\n",
       "      <td>0.0</td>\n",
       "      <td>0.0</td>\n",
       "      <td>0.0</td>\n",
       "      <td>0.0</td>\n",
       "      <td>0.0</td>\n",
       "      <td>0.0</td>\n",
       "      <td>0.0</td>\n",
       "    </tr>\n",
       "    <tr>\n",
       "      <th>945000570</th>\n",
       "      <td>1150000</td>\n",
       "      <td>2820</td>\n",
       "      <td>220</td>\n",
       "      <td>0</td>\n",
       "      <td>6</td>\n",
       "      <td>4650</td>\n",
       "      <td>0</td>\n",
       "      <td>0.0</td>\n",
       "      <td>1.0</td>\n",
       "      <td>0.0</td>\n",
       "      <td>...</td>\n",
       "      <td>0.0</td>\n",
       "      <td>0.0</td>\n",
       "      <td>0.0</td>\n",
       "      <td>0.0</td>\n",
       "      <td>0.0</td>\n",
       "      <td>0.0</td>\n",
       "      <td>1.0</td>\n",
       "      <td>0.0</td>\n",
       "      <td>0.0</td>\n",
       "      <td>0.0</td>\n",
       "    </tr>\n",
       "    <tr>\n",
       "      <th>9514050600</th>\n",
       "      <td>921000</td>\n",
       "      <td>2280</td>\n",
       "      <td>0</td>\n",
       "      <td>110</td>\n",
       "      <td>35</td>\n",
       "      <td>4197</td>\n",
       "      <td>0</td>\n",
       "      <td>0.0</td>\n",
       "      <td>1.0</td>\n",
       "      <td>0.0</td>\n",
       "      <td>...</td>\n",
       "      <td>0.0</td>\n",
       "      <td>0.0</td>\n",
       "      <td>0.0</td>\n",
       "      <td>0.0</td>\n",
       "      <td>0.0</td>\n",
       "      <td>0.0</td>\n",
       "      <td>0.0</td>\n",
       "      <td>0.0</td>\n",
       "      <td>0.0</td>\n",
       "      <td>0.0</td>\n",
       "    </tr>\n",
       "    <tr>\n",
       "      <th>809001865</th>\n",
       "      <td>890000</td>\n",
       "      <td>1820</td>\n",
       "      <td>0</td>\n",
       "      <td>70</td>\n",
       "      <td>12</td>\n",
       "      <td>4000</td>\n",
       "      <td>0</td>\n",
       "      <td>1.0</td>\n",
       "      <td>0.0</td>\n",
       "      <td>0.0</td>\n",
       "      <td>...</td>\n",
       "      <td>0.0</td>\n",
       "      <td>0.0</td>\n",
       "      <td>0.0</td>\n",
       "      <td>0.0</td>\n",
       "      <td>0.0</td>\n",
       "      <td>0.0</td>\n",
       "      <td>0.0</td>\n",
       "      <td>0.0</td>\n",
       "      <td>0.0</td>\n",
       "      <td>0.0</td>\n",
       "    </tr>\n",
       "    <tr>\n",
       "      <th>7694210140</th>\n",
       "      <td>640000</td>\n",
       "      <td>2450</td>\n",
       "      <td>0</td>\n",
       "      <td>50</td>\n",
       "      <td>23</td>\n",
       "      <td>3863</td>\n",
       "      <td>0</td>\n",
       "      <td>0.0</td>\n",
       "      <td>1.0</td>\n",
       "      <td>0.0</td>\n",
       "      <td>...</td>\n",
       "      <td>0.0</td>\n",
       "      <td>0.0</td>\n",
       "      <td>0.0</td>\n",
       "      <td>0.0</td>\n",
       "      <td>0.0</td>\n",
       "      <td>0.0</td>\n",
       "      <td>0.0</td>\n",
       "      <td>0.0</td>\n",
       "      <td>0.0</td>\n",
       "      <td>0.0</td>\n",
       "    </tr>\n",
       "  </tbody>\n",
       "</table>\n",
       "<p>25903 rows × 68 columns</p>\n",
       "</div>"
      ],
      "text/plain": [
       "            SalePrice  SqFtTotLiving  SqFtDeck  SqFtOpenPorch  Area  SqFtLot  \\\n",
       "1085621070     543950           2744         0             56    62     4770   \n",
       "9577910050     609950           3265         0             30    27     7424   \n",
       "9577910070     629950           3341         0             49    27     8527   \n",
       "9577910080     644950           3265         0             30    27     6501   \n",
       "2525059126     541000           1030         0            210    91    13503   \n",
       "...               ...            ...       ...            ...   ...      ...   \n",
       "1625079011    2400000           1260         0             60    94  1644825   \n",
       "945000570     1150000           2820       220              0     6     4650   \n",
       "9514050600     921000           2280         0            110    35     4197   \n",
       "809001865      890000           1820         0             70    12     4000   \n",
       "7694210140     640000           2450         0             50    23     3863   \n",
       "\n",
       "            WfntFootage  PropertyType_3  PropertyType_11  LakeWashington_1  \\\n",
       "1085621070            0             0.0              0.0               0.0   \n",
       "9577910050            0             0.0              0.0               0.0   \n",
       "9577910070            0             0.0              0.0               0.0   \n",
       "9577910080            0             0.0              0.0               0.0   \n",
       "2525059126            0             0.0              1.0               0.0   \n",
       "...                 ...             ...              ...               ...   \n",
       "1625079011         1330             1.0              0.0               0.0   \n",
       "945000570             0             0.0              1.0               0.0   \n",
       "9514050600            0             0.0              1.0               0.0   \n",
       "809001865             0             1.0              0.0               0.0   \n",
       "7694210140            0             0.0              1.0               0.0   \n",
       "\n",
       "            ...  FinBasementGrade_3  FinBasementGrade_4  FinBasementGrade_5  \\\n",
       "1085621070  ...                 0.0                 0.0                 0.0   \n",
       "9577910050  ...                 0.0                 0.0                 0.0   \n",
       "9577910070  ...                 0.0                 0.0                 0.0   \n",
       "9577910080  ...                 0.0                 0.0                 0.0   \n",
       "2525059126  ...                 0.0                 0.0                 0.0   \n",
       "...         ...                 ...                 ...                 ...   \n",
       "1625079011  ...                 0.0                 0.0                 0.0   \n",
       "945000570   ...                 0.0                 0.0                 0.0   \n",
       "9514050600  ...                 0.0                 0.0                 0.0   \n",
       "809001865   ...                 0.0                 0.0                 0.0   \n",
       "7694210140  ...                 0.0                 0.0                 0.0   \n",
       "\n",
       "            FinBasementGrade_6  FinBasementGrade_7  FinBasementGrade_8  \\\n",
       "1085621070                 0.0                 0.0                 0.0   \n",
       "9577910050                 0.0                 0.0                 0.0   \n",
       "9577910070                 0.0                 0.0                 0.0   \n",
       "9577910080                 0.0                 0.0                 0.0   \n",
       "2525059126                 0.0                 0.0                 0.0   \n",
       "...                        ...                 ...                 ...   \n",
       "1625079011                 0.0                 0.0                 0.0   \n",
       "945000570                  0.0                 0.0                 0.0   \n",
       "9514050600                 0.0                 0.0                 0.0   \n",
       "809001865                  0.0                 0.0                 0.0   \n",
       "7694210140                 0.0                 0.0                 0.0   \n",
       "\n",
       "            FinBasementGrade_9  FinBasementGrade_10  FinBasementGrade_11  \\\n",
       "1085621070                 0.0                  0.0                  0.0   \n",
       "9577910050                 0.0                  0.0                  0.0   \n",
       "9577910070                 0.0                  0.0                  0.0   \n",
       "9577910080                 0.0                  0.0                  0.0   \n",
       "2525059126                 0.0                  0.0                  0.0   \n",
       "...                        ...                  ...                  ...   \n",
       "1625079011                 0.0                  0.0                  0.0   \n",
       "945000570                  1.0                  0.0                  0.0   \n",
       "9514050600                 0.0                  0.0                  0.0   \n",
       "809001865                  0.0                  0.0                  0.0   \n",
       "7694210140                 0.0                  0.0                  0.0   \n",
       "\n",
       "            FinBasementGrade_12  \n",
       "1085621070                  0.0  \n",
       "9577910050                  0.0  \n",
       "9577910070                  0.0  \n",
       "9577910080                  0.0  \n",
       "2525059126                  0.0  \n",
       "...                         ...  \n",
       "1625079011                  0.0  \n",
       "945000570                   0.0  \n",
       "9514050600                  0.0  \n",
       "809001865                   0.0  \n",
       "7694210140                  0.0  \n",
       "\n",
       "[25903 rows x 68 columns]"
      ]
     },
     "execution_count": 12,
     "metadata": {},
     "output_type": "execute_result"
    }
   ],
   "source": [
    "df_final"
   ]
  },
  {
   "cell_type": "code",
   "execution_count": 13,
   "metadata": {},
   "outputs": [
    {
     "data": {
      "text/plain": [
       "Index(['SalePrice', 'SqFtTotLiving', 'SqFtDeck', 'SqFtOpenPorch', 'Area',\n",
       "       'SqFtLot', 'WfntFootage', 'PropertyType_3', 'PropertyType_11',\n",
       "       'LakeWashington_1', 'LakeWashington_2', 'LakeWashington_3',\n",
       "       'LakeWashington_4', 'LakeSammamish_1', 'LakeSammamish_2',\n",
       "       'LakeSammamish_3', 'LakeSammamish_4', 'SmallLakeRiverCreek_2',\n",
       "       'SmallLakeRiverCreek_3', 'SmallLakeRiverCreek_4', 'WfntLocation_1',\n",
       "       'WfntLocation_3', 'WfntLocation_4', 'WfntLocation_5', 'WfntLocation_6',\n",
       "       'WfntLocation_7', 'WfntLocation_8', 'WfntLocation_9', 'WfntBank_1',\n",
       "       'WfntBank_2', 'WfntBank_3', 'WfntBank_4', 'WfntPoorQuality_1',\n",
       "       'WfntRestrictedAccess_1', 'WfntRestrictedAccess_2',\n",
       "       'WfntRestrictedAccess_3', 'TidelandShoreland_1', 'TidelandShoreland_2',\n",
       "       'TidelandShoreland_3', 'Bedrooms_1', 'Bedrooms_2', 'Bedrooms_3',\n",
       "       'Bedrooms_4', 'Bedrooms_5', 'Bedrooms_6', 'Bedrooms_7', 'Bedrooms_8',\n",
       "       'Bedrooms_9', 'Bedrooms_10', 'Bedrooms_13', 'BathFullCount_1',\n",
       "       'BathFullCount_2', 'BathFullCount_3', 'BathFullCount_4',\n",
       "       'BathFullCount_5', 'BathFullCount_6', 'BathFullCount_7',\n",
       "       'FinBasementGrade_2', 'FinBasementGrade_3', 'FinBasementGrade_4',\n",
       "       'FinBasementGrade_5', 'FinBasementGrade_6', 'FinBasementGrade_7',\n",
       "       'FinBasementGrade_8', 'FinBasementGrade_9', 'FinBasementGrade_10',\n",
       "       'FinBasementGrade_11', 'FinBasementGrade_12'],\n",
       "      dtype='object')"
      ]
     },
     "execution_count": 13,
     "metadata": {},
     "output_type": "execute_result"
    }
   ],
   "source": [
    "df_final.columns"
   ]
  },
  {
   "cell_type": "code",
   "execution_count": 14,
   "metadata": {},
   "outputs": [
    {
     "data": {
      "text/plain": [
       "0    25308\n",
       "1      227\n",
       "2      172\n",
       "3      119\n",
       "4       77\n",
       "Name: LakeWashington, dtype: int64"
      ]
     },
     "execution_count": 14,
     "metadata": {},
     "output_type": "execute_result"
    }
   ],
   "source": [
    "df['LakeWashington'].value_counts()"
   ]
  },
  {
   "cell_type": "code",
   "execution_count": 15,
   "metadata": {},
   "outputs": [
    {
     "data": {
      "text/plain": [
       "0    25771\n",
       "1       44\n",
       "2       39\n",
       "3       26\n",
       "4       23\n",
       "Name: LakeSammamish, dtype: int64"
      ]
     },
     "execution_count": 15,
     "metadata": {},
     "output_type": "execute_result"
    }
   ],
   "source": [
    "df['LakeSammamish'].value_counts()"
   ]
  },
  {
   "cell_type": "code",
   "execution_count": 16,
   "metadata": {},
   "outputs": [
    {
     "data": {
      "image/png": "[encoded data removed]",
      "text/plain": [
       "<Figure size 432x288 with 1 Axes>"
      ]
     },
     "metadata": {
      "needs_background": "light"
     },
     "output_type": "display_data"
    }
   ],
   "source": [
    "sns.barplot(x='LakeSammamish', y='SalePrice', data=df, palette='Blues_d')\n",
    "plt.show()"
   ]
  },
  {
   "cell_type": "code",
   "execution_count": 17,
   "metadata": {},
   "outputs": [
    {
     "data": {
      "image/png": "[encoded data removed]",
      "text/plain": [
       "<Figure size 432x288 with 1 Axes>"
      ]
     },
     "metadata": {
      "needs_background": "light"
     },
     "output_type": "display_data"
    }
   ],
   "source": [
    "sns.barplot(x='LakeWashington', y='SalePrice', data=df, palette='Blues_d')\n",
    "plt.show()"
   ]
  },
  {
   "cell_type": "code",
   "execution_count": 19,
   "metadata": {},
   "outputs": [
    {
     "name": "stderr",
     "output_type": "stream",
     "text": [
      "/Users/jonhickey/opt/anaconda3/envs/learn-env/lib/python3.6/site-packages/seaborn/distributions.py:2551: FutureWarning: `distplot` is a deprecated function and will be removed in a future version. Please adapt your code to use either `displot` (a figure-level function with similar flexibility) or `histplot` (an axes-level function for histograms).\n",
      "  warnings.warn(msg, FutureWarning)\n"
     ]
    },
    {
     "data": {
      "text/plain": [
       "<matplotlib.axes._subplots.AxesSubplot at 0x7fd8da9640b8>"
      ]
     },
     "execution_count": 19,
     "metadata": {},
     "output_type": "execute_result"
    },
    {
     "data": {
      "image/png": "[encoded data removed]",
      "text/plain": [
       "<Figure size 432x288 with 1 Axes>"
      ]
     },
     "metadata": {
      "needs_background": "light"
     },
     "output_type": "display_data"
    }
   ],
   "source": [
    "sp = np.array(df_final['SalePrice'])\n",
    "\n",
    "\n",
    "sns.distplot(a=sp,)"
   ]
  },
  {
   "cell_type": "code",
   "execution_count": 35,
   "metadata": {},
   "outputs": [],
   "source": [
    "no_porch = df_final.loc[df_final['SqFtOpenPorch'] == 0]\n",
    "porch = df_final.loc[df_final['SqFtOpenPorch'] > 0]"
   ]
  },
  {
   "cell_type": "code",
   "execution_count": 38,
   "metadata": {},
   "outputs": [
    {
     "data": {
      "text/plain": [
       "852521.5150636019"
      ]
     },
     "execution_count": 38,
     "metadata": {},
     "output_type": "execute_result"
    }
   ],
   "source": [
    "porch['SalePrice'].mean()"
   ]
  },
  {
   "cell_type": "code",
   "execution_count": 39,
   "metadata": {},
   "outputs": [
    {
     "data": {
      "text/plain": [
       "677324.3884430176"
      ]
     },
     "execution_count": 39,
     "metadata": {},
     "output_type": "execute_result"
    }
   ],
   "source": [
    "no_porch['SalePrice'].mean()"
   ]
  },
  {
   "cell_type": "code",
   "execution_count": 40,
   "metadata": {},
   "outputs": [
    {
     "data": {
      "text/plain": [
       "<matplotlib.axes._subplots.AxesSubplot at 0x7fd8d6ee3dd8>"
      ]
     },
     "execution_count": 40,
     "metadata": {},
     "output_type": "execute_result"
    },
    {
     "data": {
      "image/png": "[encoded data removed]",
      "text/plain": [
       "<Figure size 432x288 with 1 Axes>"
      ]
     },
     "metadata": {
      "needs_background": "light"
     },
     "output_type": "display_data"
    }
   ],
   "source": [
    "sns.scatterplot(data=porch, x='SqFtOpenPorch', y='SalePrice')"
   ]
  },
  {
   "cell_type": "code",
   "execution_count": 41,
   "metadata": {},
   "outputs": [
    {
     "data": {
      "text/plain": [
       "<matplotlib.axes._subplots.AxesSubplot at 0x7fd8bc134cf8>"
      ]
     },
     "execution_count": 41,
     "metadata": {},
     "output_type": "execute_result"
    },
    {
     "data": {
      "image/png": "[encoded data removed]",
      "text/plain": [
       "<Figure size 432x288 with 1 Axes>"
      ]
     },
     "metadata": {
      "needs_background": "light"
     },
     "output_type": "display_data"
    }
   ],
   "source": [
    "sns.scatterplot(data=no_porch, x='SqFtOpenPorch', y='SalePrice')"
   ]
  },
  {
   "cell_type": "code",
   "execution_count": 63,
   "metadata": {},
   "outputs": [
    {
     "data": {
      "image/png": "[encoded data removed]",
      "text/plain": [
       "<Figure size 432x288 with 1 Axes>"
      ]
     },
     "metadata": {
      "needs_background": "light"
     },
     "output_type": "display_data"
    }
   ],
   "source": [
    "figure = plt.figure()\n",
    "subplot = figure.add_subplot()\n",
    "\n",
    "index = 1\n",
    "width = .75\n",
    "\n",
    "plt.bar(index, height=porch['SalePrice'].mean(), width=0.5)\n",
    "plt.bar(index + width, height=no_porch['SalePrice'].mean(), width=0.5)\n",
    "plt.\n",
    "plt.show()"
   ]
  },
  {
   "cell_type": "code",
   "execution_count": 59,
   "metadata": {},
   "outputs": [
    {
     "data": {
      "image/png": "[encoded data removed]",
      "text/plain": [
       "<Figure size 432x288 with 1 Axes>"
      ]
     },
     "metadata": {
      "needs_background": "light"
     },
     "output_type": "display_data"
    }
   ],
   "source": [
    "g1 = sns.barplot(x='SqFtOpenPorch', y='SalePrice', data=df_final)\n",
    "g1.set(xticklabels=[])\n",
    "g1.set(xlabel = 'Square Footage of Porch')\n",
    "g1.set(ylabel = 'Sale Price')\n",
    "g1.tick_params(bottom=False)\n",
    "plt.show()"
   ]
  },
  {
   "cell_type": "code",
   "execution_count": 58,
   "metadata": {},
   "outputs": [
    {
     "data": {
      "image/png": "[encoded data removed]",
      "text/plain": [
       "<Figure size 432x288 with 1 Axes>"
      ]
     },
     "metadata": {
      "needs_background": "light"
     },
     "output_type": "display_data"
    }
   ],
   "source": [
    "g1 = sns.barplot(x='SqFtOpenPorch', y='SalePrice', data=porch, palette='Blues_d')\n",
    "g1.set(xticklabels=[])\n",
    "g1.set(xlabel = 'Square Footage of Porch')\n",
    "g1.set(ylabel = 'Sale Price')\n",
    "g1.tick_params(bottom=False)\n",
    "plt.show()"
   ]
  },
  {
   "cell_type": "code",
   "execution_count": 73,
   "metadata": {},
   "outputs": [
    {
     "data": {
      "text/plain": [
       "<seaborn.axisgrid.FacetGrid at 0x7fd8c28f2d68>"
      ]
     },
     "execution_count": 73,
     "metadata": {},
     "output_type": "execute_result"
    },
    {
     "data": {
      "image/png": "[encoded data removed]",
      "text/plain": [
       "<Figure size 360x360 with 1 Axes>"
      ]
     },
     "metadata": {
      "needs_background": "light"
     },
     "output_type": "display_data"
    }
   ],
   "source": [
    "sns.displot(data=porch, x=\"SqFtOpenPorch\", binwidth=20)"
   ]
  },
  {
   "cell_type": "code",
   "execution_count": 67,
   "metadata": {},
   "outputs": [],
   "source": [
    "df['Porch_y_n'] = np.where(df['SqFtOpenPorch'].apply(lambda x: x > 0), 'Porch', 'No Porch')"
   ]
  },
  {
   "cell_type": "code",
   "execution_count": 69,
   "metadata": {},
   "outputs": [],
   "source": [
    "Porch_sales = np.array(df.SalePrice.loc[df.Porch_y_n == 'Porch'])"
   ]
  },
  {
   "cell_type": "code",
   "execution_count": 70,
   "metadata": {},
   "outputs": [],
   "source": [
    "no_porch_sales = np.array(df.SalePrice.loc[df.Porch_y_n == 'No Porch'])"
   ]
  },
  {
   "cell_type": "code",
   "execution_count": 86,
   "metadata": {},
   "outputs": [
    {
     "data": {
      "image/png": "[encoded data removed]",
      "text/plain": [
       "<Figure size 432x288 with 1 Axes>"
      ]
     },
     "metadata": {
      "needs_background": "light"
     },
     "output_type": "display_data"
    }
   ],
   "source": [
    "g2 = sns.barplot(x=\"WfntLocation\", y=\"SalePrice\", data=df, palette='Blues_d', )\n",
    "g2.set_xticklabels(['Duwamish', 'Elliott Bay', 'Puget Sound', 'Lake Union', 'Ship Canal', 'Lake Washington',\n",
    "                   'Lake Sammamish', 'Other Lake', 'River/Slough'])\n",
    "plt.show()"
   ]
  },
  {
   "cell_type": "code",
   "execution_count": 88,
   "metadata": {},
   "outputs": [
    {
     "data": {
      "image/png": "[encoded data removed]",
      "text/plain": [
       "<Figure size 432x288 with 1 Axes>"
      ]
     },
     "metadata": {
      "needs_background": "light"
     },
     "output_type": "display_data"
    }
   ],
   "source": [
    "fig, ax = plt.subplots()\n",
    "ax.scatter(df['FinBasementGrade'], df['SalePrice']);"
   ]
  },
  {
   "cell_type": "code",
   "execution_count": 107,
   "metadata": {},
   "outputs": [],
   "source": [
    "df_new = df.loc[df[\"FinBasementGrade\"] > 0]"
   ]
  },
  {
   "cell_type": "code",
   "execution_count": 134,
   "metadata": {},
   "outputs": [
    {
     "data": {
      "image/png": "[encoded data removed]",
      "text/plain": [
       "<Figure size 1224x720 with 1 Axes>"
      ]
     },
     "metadata": {
      "needs_background": "light"
     },
     "output_type": "display_data"
    }
   ],
   "source": [
    "fig, ax = plt.subplots(figsize=(17,10))\n",
    "ax = sns.histplot(df_new['FinBasementGrade'], bins=10)\n",
    "sns.set_context(context= 'poster', font_scale = 2)\n",
    "ax.set(xlabel = 'Finished Basement Grade', ylabel = \"Count\", title='Basement Grade Counts')\n",
    "plt.show()\n",
    "\n",
    "fig.savefig('../../figures/basementdist.png',dpi=300, bbox_inches='tight')"
   ]
  },
  {
   "cell_type": "code",
   "execution_count": null,
   "metadata": {},
   "outputs": [],
   "source": []
  },
  {
   "cell_type": "code",
   "execution_count": null,
   "metadata": {},
   "outputs": [],
   "source": []
  }
 ],
 "metadata": {
  "kernelspec": {
   "display_name": "learn-env",
   "language": "python",
   "name": "learn-env"
  },
  "language_info": {
   "codemirror_mode": {
    "name": "ipython",
    "version": 3
   },
   "file_extension": ".py",
   "mimetype": "text/x-python",
   "name": "python",
   "nbconvert_exporter": "python",
   "pygments_lexer": "ipython3",
   "version": "3.6.9"
  }
 },
 "nbformat": 4,
 "nbformat_minor": 4
}
