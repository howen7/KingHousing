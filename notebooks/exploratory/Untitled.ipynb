{
 "cells": [
  {
   "cell_type": "code",
   "execution_count": null,
   "metadata": {},
   "outputs": [],
   "source": [
    "import pandas as pd\n",
    "import sqlite3\n",
    "from datetime import datetime"
   ]
  },
  {
   "cell_type": "markdown",
   "metadata": {},
   "source": [
    "# Importing 3 Dataframes"
   ]
  },
  {
   "cell_type": "code",
   "execution_count": 2,
   "metadata": {},
   "outputs": [],
   "source": [
    "df_parcel = pd.read_csv('../Data/raw/EXTR_Parcel.csv', encoding = \"ISO-8859-1\")"
   ]
  },
  {
   "cell_type": "code",
   "execution_count": null,
   "metadata": {},
   "outputs": [],
   "source": [
    "df_res = pd.read_csv('../Data/raw/EXTR_ResBldg.csv')"
   ]
  },
  {
   "cell_type": "code",
   "execution_count": null,
   "metadata": {},
   "outputs": [],
   "source": [
    "df_real = pd.read_csv('../Data/raw/EXTR_RPSale.csv', encoding = \"ISO-8859-1\")"
   ]
  },
  {
   "cell_type": "markdown",
   "metadata": {},
   "source": [
    "# Filtering Real Sales Dataframe"
   ]
  },
  {
   "cell_type": "code",
   "execution_count": 5,
   "metadata": {},
   "outputs": [],
   "source": [
    "#set to \n",
    "df_real_home = df_real.loc[(df_real.PropertyType.isin([2,3,11])) & (df_real.SalePrice > 0)]"
   ]
  },
  {
   "cell_type": "code",
   "execution_count": null,
   "metadata": {},
   "outputs": [],
   "source": [
    "#Creating Column to combine Major and minor called UniqueID \n",
    "df_real_home['UniqueID'] = (df_real_home['Major'].astype(str)+ df_real_home['Minor'].astype(str)).astype(int)"
   ]
  },
  {
   "cell_type": "code",
   "execution_count": null,
   "metadata": {},
   "outputs": [],
   "source": [
    "df_real_home['DocumentDate'] = pd.to_datetime(df_real_home['DocumentDate'], format=\"%m/%d/%Y\")"
   ]
  },
  {
   "cell_type": "code",
   "execution_count": 8,
   "metadata": {},
   "outputs": [],
   "source": [
    "#dropping duplicated values of unique id and keeping the most recent sale date\n",
    "df_real_home = df_real_home.sort_values('DocumentDate').drop_duplicates('UniqueID', keep='last')"
   ]
  },
  {
   "cell_type": "markdown",
   "metadata": {},
   "source": [
    "# Filtering Parcel and Resident dataframe"
   ]
  },
  {
   "cell_type": "code",
   "execution_count": 9,
   "metadata": {},
   "outputs": [],
   "source": [
    "df_res['UniqueID'] = (df_res['Major'].astype(str)+ df_res['Minor'].astype(str)).astype(int)\n",
    "df_parcel['UniqueID'] = (df_parcel['Major'].astype(str)+ df_parcel['Minor'].astype(str)).astype(int)"
   ]
  },
  {
   "cell_type": "code",
   "execution_count": 10,
   "metadata": {},
   "outputs": [],
   "source": [
    "df_parcel = df_parcel[df_parcel.PropType == 'R']"
   ]
  },
  {
   "cell_type": "code",
   "execution_count": 11,
   "metadata": {},
   "outputs": [],
   "source": [
    "df_parcel = df_parcel.drop_duplicates(subset = 'UniqueID', keep = 'first')"
   ]
  },
  {
   "cell_type": "code",
   "execution_count": 12,
   "metadata": {},
   "outputs": [],
   "source": [
    "df_res = df_res.drop_duplicates(subset = 'UniqueID', keep = 'first')"
   ]
  },
  {
   "cell_type": "markdown",
   "metadata": {},
   "source": [
    "# Making UniqueID column the index for all the dataframes"
   ]
  },
  {
   "cell_type": "code",
   "execution_count": 13,
   "metadata": {},
   "outputs": [],
   "source": [
    "df_parcel.set_index('UniqueID', drop = True, inplace = True)"
   ]
  },
  {
   "cell_type": "code",
   "execution_count": 14,
   "metadata": {},
   "outputs": [],
   "source": [
    "df_res.set_index('UniqueID', drop = True, inplace = True)"
   ]
  },
  {
   "cell_type": "code",
   "execution_count": 15,
   "metadata": {},
   "outputs": [],
   "source": [
    "df_real_home.set_index('UniqueID', drop = True, inplace = True)"
   ]
  },
  {
   "cell_type": "markdown",
   "metadata": {},
   "source": [
    "# Concatenating the Dataframes "
   ]
  },
  {
   "cell_type": "code",
   "execution_count": 20,
   "metadata": {},
   "outputs": [],
   "source": [
    "test_df = pd.concat([df_real_home, df_parcel.reindex(df_real_home.index)], axis=1)"
   ]
  },
  {
   "cell_type": "code",
   "execution_count": 22,
   "metadata": {},
   "outputs": [],
   "source": [
    "df_combined = pd.concat([test_df, df_res.reindex(test_df.index)], axis=1)"
   ]
  },
  {
   "cell_type": "code",
   "execution_count": 32,
   "metadata": {},
   "outputs": [],
   "source": [
    "df_combined = df_combined.loc[:,~df_combined.columns.duplicated()]"
   ]
  },
  {
   "cell_type": "code",
   "execution_count": 83,
   "metadata": {},
   "outputs": [
    {
     "data": {
      "text/plain": [
       "['ExciseTaxNbr',\n",
       " 'Major',\n",
       " 'Minor',\n",
       " 'DocumentDate',\n",
       " 'SalePrice',\n",
       " 'RecordingNbr',\n",
       " 'Volume',\n",
       " 'Page',\n",
       " 'PlatNbr',\n",
       " 'PlatType',\n",
       " 'PlatLot',\n",
       " 'PlatBlock',\n",
       " 'SellerName',\n",
       " 'BuyerName',\n",
       " 'PropertyType',\n",
       " 'PrincipalUse',\n",
       " 'SaleInstrument',\n",
       " 'AFForestLand',\n",
       " 'AFCurrentUseLand',\n",
       " 'AFNonProfitUse',\n",
       " 'AFHistoricProperty',\n",
       " 'SaleReason',\n",
       " 'PropertyClass',\n",
       " 'SaleWarning',\n",
       " 'PropName',\n",
       " 'PlatName',\n",
       " 'Range',\n",
       " 'Township',\n",
       " 'Section',\n",
       " 'QuarterSection',\n",
       " 'PropType',\n",
       " 'Area',\n",
       " 'SubArea',\n",
       " 'SpecArea',\n",
       " 'SpecSubArea',\n",
       " 'DistrictName',\n",
       " 'LevyCode',\n",
       " 'CurrentZoning',\n",
       " 'HBUAsIfVacant',\n",
       " 'HBUAsImproved',\n",
       " 'PresentUse',\n",
       " 'SqFtLot',\n",
       " 'WaterSystem',\n",
       " 'SewerSystem',\n",
       " 'Access',\n",
       " 'Topography',\n",
       " 'StreetSurface',\n",
       " 'RestrictiveSzShape',\n",
       " 'InadequateParking',\n",
       " 'PcntUnusable',\n",
       " 'Unbuildable',\n",
       " 'MtRainier',\n",
       " 'Olympics',\n",
       " 'Cascades',\n",
       " 'Territorial',\n",
       " 'SeattleSkyline',\n",
       " 'PugetSound',\n",
       " 'LakeWashington',\n",
       " 'LakeSammamish',\n",
       " 'SmallLakeRiverCreek',\n",
       " 'OtherView',\n",
       " 'WfntLocation',\n",
       " 'WfntFootage',\n",
       " 'WfntBank',\n",
       " 'WfntPoorQuality',\n",
       " 'WfntRestrictedAccess',\n",
       " 'WfntAccessRights',\n",
       " 'WfntProximityInfluence',\n",
       " 'TidelandShoreland',\n",
       " 'LotDepthFactor',\n",
       " 'TrafficNoise',\n",
       " 'AirportNoise',\n",
       " 'PowerLines',\n",
       " 'OtherNuisances',\n",
       " 'NbrBldgSites',\n",
       " 'Contamination',\n",
       " 'DNRLease',\n",
       " 'AdjacentGolfFairway',\n",
       " 'AdjacentGreenbelt',\n",
       " 'HistoricSite',\n",
       " 'CurrentUseDesignation',\n",
       " 'NativeGrowthProtEsmt',\n",
       " 'Easements',\n",
       " 'OtherDesignation',\n",
       " 'DeedRestrictions',\n",
       " 'DevelopmentRightsPurch',\n",
       " 'CoalMineHazard',\n",
       " 'CriticalDrainage',\n",
       " 'ErosionHazard',\n",
       " 'LandfillBuffer',\n",
       " 'HundredYrFloodPlain',\n",
       " 'SeismicHazard',\n",
       " 'LandslideHazard',\n",
       " 'SteepSlopeHazard',\n",
       " 'Stream',\n",
       " 'Wetland',\n",
       " 'SpeciesOfConcern',\n",
       " 'SensitiveAreaTract',\n",
       " 'WaterProblems',\n",
       " 'TranspConcurrency',\n",
       " 'OtherProblems',\n",
       " 'BldgNbr',\n",
       " 'NbrLivingUnits',\n",
       " 'Address',\n",
       " 'BuildingNumber',\n",
       " 'Fraction',\n",
       " 'DirectionPrefix',\n",
       " 'StreetName',\n",
       " 'StreetType',\n",
       " 'DirectionSuffix',\n",
       " 'ZipCode',\n",
       " 'Stories',\n",
       " 'BldgGrade',\n",
       " 'BldgGradeVar',\n",
       " 'SqFt1stFloor',\n",
       " 'SqFtHalfFloor',\n",
       " 'SqFt2ndFloor',\n",
       " 'SqFtUpperFloor',\n",
       " 'SqFtUnfinFull',\n",
       " 'SqFtUnfinHalf',\n",
       " 'SqFtTotLiving',\n",
       " 'SqFtTotBasement',\n",
       " 'SqFtFinBasement',\n",
       " 'FinBasementGrade',\n",
       " 'SqFtGarageBasement',\n",
       " 'SqFtGarageAttached',\n",
       " 'DaylightBasement',\n",
       " 'SqFtOpenPorch',\n",
       " 'SqFtEnclosedPorch',\n",
       " 'SqFtDeck',\n",
       " 'HeatSystem',\n",
       " 'HeatSource',\n",
       " 'BrickStone',\n",
       " 'ViewUtilization',\n",
       " 'Bedrooms',\n",
       " 'BathHalfCount',\n",
       " 'Bath3qtrCount',\n",
       " 'BathFullCount',\n",
       " 'FpSingleStory',\n",
       " 'FpMultiStory',\n",
       " 'FpFreestanding',\n",
       " 'FpAdditional',\n",
       " 'YrBuilt',\n",
       " 'YrRenovated',\n",
       " 'PcntComplete',\n",
       " 'Obsolescence',\n",
       " 'PcntNetCondition',\n",
       " 'Condition',\n",
       " 'AddnlCost']"
      ]
     },
     "execution_count": 83,
     "metadata": {},
     "output_type": "execute_result"
    }
   ],
   "source": [
    "df_combined.columns.tolist()"
   ]
  },
  {
   "cell_type": "code",
   "execution_count": 79,
   "metadata": {},
   "outputs": [],
   "source": [
    "df_final = df_combined[['DocumentDate','SalePrice', 'PropertyType', 'PrincipalUse', 'SaleReason', 'PropertyClass', 'SaleWarning', 'Area', 'SqFtLot', 'LakeWashington',\n",
    " 'LakeSammamish','SmallLakeRiverCreek','OtherView','WfntLocation','WfntFootage','WfntBank','WfntPoorQuality','WfntRestrictedAccess','WfntAccessRights','WfntProximityInfluence','TidelandShoreland', 'TrafficNoise',\n",
    " 'AirportNoise','PowerLines','OtherNuisances', 'SqFtTotLiving','SqFtDeck','SqFtOpenPorch', 'Condition' ]]"
   ]
  },
  {
   "cell_type": "code",
   "execution_count": 80,
   "metadata": {},
   "outputs": [
    {
     "name": "stderr",
     "output_type": "stream",
     "text": [
      "<ipython-input-80-b02a7a58dda0>:1: SettingWithCopyWarning: \n",
      "A value is trying to be set on a copy of a slice from a DataFrame.\n",
      "Try using .loc[row_indexer,col_indexer] = value instead\n",
      "\n",
      "See the caveats in the documentation: https://pandas.pydata.org/pandas-docs/stable/user_guide/indexing.html#returning-a-view-versus-a-copy\n",
      "  df_final['year'] = pd.DatetimeIndex(df_final['DocumentDate']).year\n"
     ]
    }
   ],
   "source": [
    "df_final['year'] = pd.DatetimeIndex(df_final['DocumentDate']).year"
   ]
  },
  {
   "cell_type": "code",
   "execution_count": 81,
   "metadata": {},
   "outputs": [],
   "source": [
    "df_2019final = df_final[df_final.year == 2019]"
   ]
  },
  {
   "cell_type": "code",
   "execution_count": 82,
   "metadata": {},
   "outputs": [],
   "source": [
    "df_2019final.to_json('../Data/combined.json')"
   ]
  },
  {
   "cell_type": "code",
   "execution_count": null,
   "metadata": {},
   "outputs": [],
   "source": []
  }
 ],
 "metadata": {
  "kernelspec": {
   "display_name": "Python 3",
   "language": "python",
   "name": "python3"
  },
  "language_info": {
   "codemirror_mode": {
    "name": "ipython",
    "version": 3
   },
   "file_extension": ".py",
   "mimetype": "text/x-python",
   "name": "python",
   "nbconvert_exporter": "python",
   "pygments_lexer": "ipython3",
   "version": "3.8.3"
  }
 },
 "nbformat": 4,
 "nbformat_minor": 4
}
