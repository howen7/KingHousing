{
 "cells": [
  {
   "cell_type": "code",
   "execution_count": null,
   "metadata": {},
   "outputs": [],
   "source": [
    "import pandas as pd\n",
    "import sqlite3\n",
    "from datetime import datetime"
   ]
  },
  {
   "cell_type": "markdown",
   "metadata": {},
   "source": [
    "# Importing 3 dataframes"
   ]
  },
  {
   "cell_type": "code",
   "execution_count": 2,
   "metadata": {},
   "outputs": [],
   "source": [
    "df_parcel = pd.read_csv('../Data/raw/EXTR_Parcel.csv', encoding = \"ISO-8859-1\")"
   ]
  },
  {
   "cell_type": "code",
   "execution_count": 3,
   "metadata": {},
   "outputs": [
    {
     "name": "stderr",
     "output_type": "stream",
     "text": [
      "/opt/anaconda3/lib/python3.8/site-packages/IPython/core/interactiveshell.py:3071: DtypeWarning: Columns (11) have mixed types.Specify dtype option on import or set low_memory=False.\n",
      "  has_raised = await self.run_ast_nodes(code_ast.body, cell_name,\n"
     ]
    }
   ],
   "source": [
    "df_res = pd.read_csv('../Data/raw/EXTR_ResBldg.csv')"
   ]
  },
  {
   "cell_type": "code",
   "execution_count": 4,
   "metadata": {},
   "outputs": [
    {
     "name": "stderr",
     "output_type": "stream",
     "text": [
      "/opt/anaconda3/lib/python3.8/site-packages/IPython/core/interactiveshell.py:3071: DtypeWarning: Columns (1,2) have mixed types.Specify dtype option on import or set low_memory=False.\n",
      "  has_raised = await self.run_ast_nodes(code_ast.body, cell_name,\n"
     ]
    }
   ],
   "source": [
    "df_real = pd.read_csv('../Data/raw/EXTR_RPSale.csv', encoding = \"ISO-8859-1\")"
   ]
  },
  {
   "cell_type": "markdown",
   "metadata": {},
   "source": [
    "# Filtering Real Sales Dataframe"
   ]
  },
  {
   "cell_type": "code",
   "execution_count": 5,
   "metadata": {},
   "outputs": [],
   "source": [
    "#set to \n",
    "df_real_home = df_real.loc[(df_real.PropertyType.isin([2,3,11])) & (df_real.SalePrice > 0)]"
   ]
  },
  {
   "cell_type": "code",
   "execution_count": 6,
   "metadata": {},
   "outputs": [
    {
     "name": "stderr",
     "output_type": "stream",
     "text": [
      "<ipython-input-6-acffeaa3d2a3>:2: SettingWithCopyWarning: \n",
      "A value is trying to be set on a copy of a slice from a DataFrame.\n",
      "Try using .loc[row_indexer,col_indexer] = value instead\n",
      "\n",
      "See the caveats in the documentation: https://pandas.pydata.org/pandas-docs/stable/user_guide/indexing.html#returning-a-view-versus-a-copy\n",
      "  df_real_home['UniqueID'] = (df_real_home['Major'].astype(str)+ df_real_home['Minor'].astype(str)).astype(int)\n"
     ]
    }
   ],
   "source": [
    "#Creating Column to combine Major and minor called UniqueID \n",
    "df_real_home['UniqueID'] = (df_real_home['Major'].astype(str)+ df_real_home['Minor'].astype(str)).astype(int)"
   ]
  },
  {
   "cell_type": "code",
   "execution_count": 7,
   "metadata": {},
   "outputs": [
    {
     "name": "stderr",
     "output_type": "stream",
     "text": [
      "<ipython-input-7-4a2c7d9ac08f>:1: SettingWithCopyWarning: \n",
      "A value is trying to be set on a copy of a slice from a DataFrame.\n",
      "Try using .loc[row_indexer,col_indexer] = value instead\n",
      "\n",
      "See the caveats in the documentation: https://pandas.pydata.org/pandas-docs/stable/user_guide/indexing.html#returning-a-view-versus-a-copy\n",
      "  df_real_home['DocumentDate'] = pd.to_datetime(df_real_home['DocumentDate'], format=\"%m/%d/%Y\")\n"
     ]
    }
   ],
   "source": [
    "df_real_home['DocumentDate'] = pd.to_datetime(df_real_home['DocumentDate'], format=\"%m/%d/%Y\")"
   ]
  },
  {
   "cell_type": "code",
   "execution_count": 8,
   "metadata": {},
   "outputs": [],
   "source": [
    "#dropping duplicated values of unique id and keeping the most recent sale date\n",
    "df_real_home = df_real_home.sort_values('DocumentDate').drop_duplicates('UniqueID', keep='last')"
   ]
  },
  {
   "cell_type": "markdown",
   "metadata": {},
   "source": [
    "# Filtering Parcel and Resident dataframe"
   ]
  },
  {
   "cell_type": "code",
   "execution_count": 9,
   "metadata": {},
   "outputs": [],
   "source": [
    "df_res['UniqueID'] = (df_res['Major'].astype(str)+ df_res['Minor'].astype(str)).astype(int)\n",
    "df_parcel['UniqueID'] = (df_parcel['Major'].astype(str)+ df_parcel['Minor'].astype(str)).astype(int)"
   ]
  },
  {
   "cell_type": "code",
   "execution_count": 10,
   "metadata": {},
   "outputs": [],
   "source": [
    "df_parcel = df_parcel[df_parcel.PropType == 'R']"
   ]
  },
  {
   "cell_type": "code",
   "execution_count": 11,
   "metadata": {},
   "outputs": [],
   "source": [
    "df_parcel = df_parcel.drop_duplicates(subset = 'UniqueID', keep = 'first')"
   ]
  },
  {
   "cell_type": "code",
   "execution_count": 12,
   "metadata": {},
   "outputs": [],
   "source": [
    "df_res = df_res.drop_duplicates(subset = 'UniqueID', keep = 'first')"
   ]
  },
  {
   "cell_type": "markdown",
   "metadata": {},
   "source": [
    "# Making uniqueID the index for all the dataframes"
   ]
  },
  {
   "cell_type": "code",
   "execution_count": 13,
   "metadata": {},
   "outputs": [],
   "source": [
    "df_parcel.set_index('UniqueID', drop = True, inplace = True)"
   ]
  },
  {
   "cell_type": "code",
   "execution_count": 14,
   "metadata": {},
   "outputs": [],
   "source": [
    "df_res.set_index('UniqueID', drop = True, inplace = True)"
   ]
  },
  {
   "cell_type": "code",
   "execution_count": 15,
   "metadata": {},
   "outputs": [],
   "source": [
    "df_real_home.set_index('UniqueID', drop = True, inplace = True)"
   ]
  },
  {
   "cell_type": "markdown",
   "metadata": {},
   "source": [
    "# Concatenating the dateframes "
   ]
  },
  {
   "cell_type": "code",
   "execution_count": 20,
   "metadata": {},
   "outputs": [],
   "source": [
    "test_df = pd.concat([df_real_home, df_parcel.reindex(df_real_home.index)], axis=1)"
   ]
  },
  {
   "cell_type": "code",
   "execution_count": 22,
   "metadata": {},
   "outputs": [],
   "source": [
    "df_combined = pd.concat([test_df, df_res.reindex(test_df.index)], axis=1)"
   ]
  },
  {
   "cell_type": "code",
   "execution_count": 32,
   "metadata": {},
   "outputs": [],
   "source": [
    "df_combined = df_combined.loc[:,~df_combined.columns.duplicated()]"
   ]
  },
  {
   "cell_type": "code",
   "execution_count": 57,
   "metadata": {},
   "outputs": [
    {
     "data": {
      "text/plain": [
       "69.0    8983\n",
       "35.0    8324\n",
       "6.0     7872\n",
       "37.0    7695\n",
       "56.0    7588\n",
       "        ... \n",
       "94.0    2736\n",
       "66.0    2638\n",
       "57.0    2166\n",
       "63.0    1338\n",
       "90.0     677\n",
       "Name: Area, Length: 88, dtype: int64"
      ]
     },
     "execution_count": 57,
     "metadata": {},
     "output_type": "execute_result"
    }
   ],
   "source": [
    "df_combined.Area.value_counts()"
   ]
  },
  {
   "cell_type": "code",
   "execution_count": 34,
   "metadata": {},
   "outputs": [],
   "source": [
    "df_combined.to_json('../Data/combined.json')"
   ]
  },
  {
   "cell_type": "code",
   "execution_count": 58,
   "metadata": {},
   "outputs": [],
   "source": [
    "df_final = df_combined[['Major', 'Minor', 'DocumentDate','SalePrice', 'PropertyType', 'PrincipalUse', 'SaleReason', 'PropertyClass', 'SaleWarning', 'Area', 'SqFtLot', 'LakeWashington',\n",
    " 'LakeSammamish','SmallLakeRiverCreek','OtherView','WfntLocation','WfntFootage','WfntBank','WfntPoorQuality','WfntRestrictedAccess','WfntAccessRights','WfntProximityInfluence','TidelandShoreland', 'TrafficNoise',\n",
    " 'AirportNoise','PowerLines','OtherNuisances', 'SqFtTotLiving','SqFtDeck','SqFtOpenPorch', 'Condition' ]]"
   ]
  },
  {
   "cell_type": "code",
   "execution_count": 53,
   "metadata": {},
   "outputs": [
    {
     "data": {
      "text/plain": [
       "R    440326\n",
       "Name: PropType, dtype: int64"
      ]
     },
     "execution_count": 53,
     "metadata": {},
     "output_type": "execute_result"
    }
   ],
   "source": [
    "df_combined.PropType.value_counts()"
   ]
  },
  {
   "cell_type": "code",
   "execution_count": 62,
   "metadata": {},
   "outputs": [
    {
     "data": {
      "text/html": [
       "<div>\n",
       "<style scoped>\n",
       "    .dataframe tbody tr th:only-of-type {\n",
       "        vertical-align: middle;\n",
       "    }\n",
       "\n",
       "    .dataframe tbody tr th {\n",
       "        vertical-align: top;\n",
       "    }\n",
       "\n",
       "    .dataframe thead th {\n",
       "        text-align: right;\n",
       "    }\n",
       "</style>\n",
       "<table border=\"1\" class=\"dataframe\">\n",
       "  <thead>\n",
       "    <tr style=\"text-align: right;\">\n",
       "      <th></th>\n",
       "      <th>Major</th>\n",
       "      <th>Minor</th>\n",
       "      <th>DocumentDate</th>\n",
       "      <th>SalePrice</th>\n",
       "      <th>PropertyType</th>\n",
       "      <th>PrincipalUse</th>\n",
       "      <th>SaleReason</th>\n",
       "      <th>PropertyClass</th>\n",
       "      <th>SaleWarning</th>\n",
       "      <th>Area</th>\n",
       "      <th>...</th>\n",
       "      <th>WfntProximityInfluence</th>\n",
       "      <th>TidelandShoreland</th>\n",
       "      <th>TrafficNoise</th>\n",
       "      <th>AirportNoise</th>\n",
       "      <th>PowerLines</th>\n",
       "      <th>OtherNuisances</th>\n",
       "      <th>SqFtTotLiving</th>\n",
       "      <th>SqFtDeck</th>\n",
       "      <th>SqFtOpenPorch</th>\n",
       "      <th>Condition</th>\n",
       "    </tr>\n",
       "    <tr>\n",
       "      <th>UniqueID</th>\n",
       "      <th></th>\n",
       "      <th></th>\n",
       "      <th></th>\n",
       "      <th></th>\n",
       "      <th></th>\n",
       "      <th></th>\n",
       "      <th></th>\n",
       "      <th></th>\n",
       "      <th></th>\n",
       "      <th></th>\n",
       "      <th></th>\n",
       "      <th></th>\n",
       "      <th></th>\n",
       "      <th></th>\n",
       "      <th></th>\n",
       "      <th></th>\n",
       "      <th></th>\n",
       "      <th></th>\n",
       "      <th></th>\n",
       "      <th></th>\n",
       "      <th></th>\n",
       "    </tr>\n",
       "  </thead>\n",
       "  <tbody>\n",
       "    <tr>\n",
       "      <th>7186800030</th>\n",
       "      <td>718680</td>\n",
       "      <td>0030</td>\n",
       "      <td>1954-03-11</td>\n",
       "      <td>600</td>\n",
       "      <td>3</td>\n",
       "      <td>6</td>\n",
       "      <td>18</td>\n",
       "      <td>8</td>\n",
       "      <td>32 51</td>\n",
       "      <td>NaN</td>\n",
       "      <td>...</td>\n",
       "      <td>NaN</td>\n",
       "      <td>NaN</td>\n",
       "      <td>NaN</td>\n",
       "      <td>NaN</td>\n",
       "      <td>NaN</td>\n",
       "      <td>NaN</td>\n",
       "      <td>NaN</td>\n",
       "      <td>NaN</td>\n",
       "      <td>NaN</td>\n",
       "      <td>NaN</td>\n",
       "    </tr>\n",
       "    <tr>\n",
       "      <th>222470151</th>\n",
       "      <td>222470</td>\n",
       "      <td>151</td>\n",
       "      <td>1959-10-10</td>\n",
       "      <td>12250</td>\n",
       "      <td>3</td>\n",
       "      <td>0</td>\n",
       "      <td>1</td>\n",
       "      <td>8</td>\n",
       "      <td>18</td>\n",
       "      <td>2.0</td>\n",
       "      <td>...</td>\n",
       "      <td>N</td>\n",
       "      <td>0.0</td>\n",
       "      <td>1.0</td>\n",
       "      <td>0.0</td>\n",
       "      <td>N</td>\n",
       "      <td>N</td>\n",
       "      <td>2090.0</td>\n",
       "      <td>0.0</td>\n",
       "      <td>0.0</td>\n",
       "      <td>4.0</td>\n",
       "    </tr>\n",
       "    <tr>\n",
       "      <th>46700477</th>\n",
       "      <td>46700</td>\n",
       "      <td>477</td>\n",
       "      <td>1960-01-01</td>\n",
       "      <td>2500</td>\n",
       "      <td>3</td>\n",
       "      <td>0</td>\n",
       "      <td>18</td>\n",
       "      <td>2</td>\n",
       "      <td>22</td>\n",
       "      <td>NaN</td>\n",
       "      <td>...</td>\n",
       "      <td>NaN</td>\n",
       "      <td>NaN</td>\n",
       "      <td>NaN</td>\n",
       "      <td>NaN</td>\n",
       "      <td>NaN</td>\n",
       "      <td>NaN</td>\n",
       "      <td>NaN</td>\n",
       "      <td>NaN</td>\n",
       "      <td>NaN</td>\n",
       "      <td>NaN</td>\n",
       "    </tr>\n",
       "    <tr>\n",
       "      <th>503180251</th>\n",
       "      <td>503180</td>\n",
       "      <td>251</td>\n",
       "      <td>1960-09-27</td>\n",
       "      <td>2300</td>\n",
       "      <td>3</td>\n",
       "      <td>0</td>\n",
       "      <td>1</td>\n",
       "      <td>8</td>\n",
       "      <td>25</td>\n",
       "      <td>100.0</td>\n",
       "      <td>...</td>\n",
       "      <td>N</td>\n",
       "      <td>2.0</td>\n",
       "      <td>0.0</td>\n",
       "      <td>0.0</td>\n",
       "      <td>N</td>\n",
       "      <td>N</td>\n",
       "      <td>1140.0</td>\n",
       "      <td>810.0</td>\n",
       "      <td>40.0</td>\n",
       "      <td>3.0</td>\n",
       "    </tr>\n",
       "    <tr>\n",
       "      <th>55893045</th>\n",
       "      <td>558930</td>\n",
       "      <td>45</td>\n",
       "      <td>1962-10-03</td>\n",
       "      <td>7200</td>\n",
       "      <td>3</td>\n",
       "      <td>6</td>\n",
       "      <td>1</td>\n",
       "      <td>8</td>\n",
       "      <td></td>\n",
       "      <td>3.0</td>\n",
       "      <td>...</td>\n",
       "      <td>N</td>\n",
       "      <td>0.0</td>\n",
       "      <td>0.0</td>\n",
       "      <td>0.0</td>\n",
       "      <td>N</td>\n",
       "      <td>N</td>\n",
       "      <td>480.0</td>\n",
       "      <td>0.0</td>\n",
       "      <td>0.0</td>\n",
       "      <td>3.0</td>\n",
       "    </tr>\n",
       "  </tbody>\n",
       "</table>\n",
       "<p>5 rows × 31 columns</p>\n",
       "</div>"
      ],
      "text/plain": [
       "             Major Minor DocumentDate  SalePrice  PropertyType  PrincipalUse  \\\n",
       "UniqueID                                                                       \n",
       "7186800030  718680  0030   1954-03-11        600             3             6   \n",
       "222470151   222470   151   1959-10-10      12250             3             0   \n",
       "46700477     46700   477   1960-01-01       2500             3             0   \n",
       "503180251   503180   251   1960-09-27       2300             3             0   \n",
       "55893045    558930    45   1962-10-03       7200             3             6   \n",
       "\n",
       "            SaleReason  PropertyClass SaleWarning   Area  ...  \\\n",
       "UniqueID                                                  ...   \n",
       "7186800030          18              8       32 51    NaN  ...   \n",
       "222470151            1              8          18    2.0  ...   \n",
       "46700477            18              2          22    NaN  ...   \n",
       "503180251            1              8          25  100.0  ...   \n",
       "55893045             1              8                3.0  ...   \n",
       "\n",
       "            WfntProximityInfluence  TidelandShoreland  TrafficNoise  \\\n",
       "UniqueID                                                              \n",
       "7186800030                     NaN                NaN           NaN   \n",
       "222470151                        N                0.0           1.0   \n",
       "46700477                       NaN                NaN           NaN   \n",
       "503180251                        N                2.0           0.0   \n",
       "55893045                         N                0.0           0.0   \n",
       "\n",
       "            AirportNoise  PowerLines  OtherNuisances  SqFtTotLiving  SqFtDeck  \\\n",
       "UniqueID                                                                        \n",
       "7186800030           NaN         NaN             NaN            NaN       NaN   \n",
       "222470151            0.0           N               N         2090.0       0.0   \n",
       "46700477             NaN         NaN             NaN            NaN       NaN   \n",
       "503180251            0.0           N               N         1140.0     810.0   \n",
       "55893045             0.0           N               N          480.0       0.0   \n",
       "\n",
       "            SqFtOpenPorch  Condition  \n",
       "UniqueID                              \n",
       "7186800030            NaN        NaN  \n",
       "222470151             0.0        4.0  \n",
       "46700477              NaN        NaN  \n",
       "503180251            40.0        3.0  \n",
       "55893045              0.0        3.0  \n",
       "\n",
       "[5 rows x 31 columns]"
      ]
     },
     "execution_count": 62,
     "metadata": {},
     "output_type": "execute_result"
    }
   ],
   "source": [
    "df_final.head()"
   ]
  },
  {
   "cell_type": "code",
   "execution_count": 71,
   "metadata": {},
   "outputs": [
    {
     "name": "stderr",
     "output_type": "stream",
     "text": [
      "<ipython-input-71-b02a7a58dda0>:1: SettingWithCopyWarning: \n",
      "A value is trying to be set on a copy of a slice from a DataFrame.\n",
      "Try using .loc[row_indexer,col_indexer] = value instead\n",
      "\n",
      "See the caveats in the documentation: https://pandas.pydata.org/pandas-docs/stable/user_guide/indexing.html#returning-a-view-versus-a-copy\n",
      "  df_final['year'] = pd.DatetimeIndex(df_final['DocumentDate']).year\n"
     ]
    }
   ],
   "source": [
    "df_final['year'] = pd.DatetimeIndex(df_final['DocumentDate']).year"
   ]
  },
  {
   "cell_type": "code",
   "execution_count": 72,
   "metadata": {},
   "outputs": [
    {
     "data": {
      "text/html": [
       "<div>\n",
       "<style scoped>\n",
       "    .dataframe tbody tr th:only-of-type {\n",
       "        vertical-align: middle;\n",
       "    }\n",
       "\n",
       "    .dataframe tbody tr th {\n",
       "        vertical-align: top;\n",
       "    }\n",
       "\n",
       "    .dataframe thead th {\n",
       "        text-align: right;\n",
       "    }\n",
       "</style>\n",
       "<table border=\"1\" class=\"dataframe\">\n",
       "  <thead>\n",
       "    <tr style=\"text-align: right;\">\n",
       "      <th></th>\n",
       "      <th>Major</th>\n",
       "      <th>Minor</th>\n",
       "      <th>DocumentDate</th>\n",
       "      <th>SalePrice</th>\n",
       "      <th>PropertyType</th>\n",
       "      <th>PrincipalUse</th>\n",
       "      <th>SaleReason</th>\n",
       "      <th>PropertyClass</th>\n",
       "      <th>SaleWarning</th>\n",
       "      <th>Area</th>\n",
       "      <th>...</th>\n",
       "      <th>TidelandShoreland</th>\n",
       "      <th>TrafficNoise</th>\n",
       "      <th>AirportNoise</th>\n",
       "      <th>PowerLines</th>\n",
       "      <th>OtherNuisances</th>\n",
       "      <th>SqFtTotLiving</th>\n",
       "      <th>SqFtDeck</th>\n",
       "      <th>SqFtOpenPorch</th>\n",
       "      <th>Condition</th>\n",
       "      <th>year</th>\n",
       "    </tr>\n",
       "    <tr>\n",
       "      <th>UniqueID</th>\n",
       "      <th></th>\n",
       "      <th></th>\n",
       "      <th></th>\n",
       "      <th></th>\n",
       "      <th></th>\n",
       "      <th></th>\n",
       "      <th></th>\n",
       "      <th></th>\n",
       "      <th></th>\n",
       "      <th></th>\n",
       "      <th></th>\n",
       "      <th></th>\n",
       "      <th></th>\n",
       "      <th></th>\n",
       "      <th></th>\n",
       "      <th></th>\n",
       "      <th></th>\n",
       "      <th></th>\n",
       "      <th></th>\n",
       "      <th></th>\n",
       "      <th></th>\n",
       "    </tr>\n",
       "  </thead>\n",
       "  <tbody>\n",
       "    <tr>\n",
       "      <th>7186800030</th>\n",
       "      <td>718680</td>\n",
       "      <td>0030</td>\n",
       "      <td>1954-03-11</td>\n",
       "      <td>600</td>\n",
       "      <td>3</td>\n",
       "      <td>6</td>\n",
       "      <td>18</td>\n",
       "      <td>8</td>\n",
       "      <td>32 51</td>\n",
       "      <td>NaN</td>\n",
       "      <td>...</td>\n",
       "      <td>NaN</td>\n",
       "      <td>NaN</td>\n",
       "      <td>NaN</td>\n",
       "      <td>NaN</td>\n",
       "      <td>NaN</td>\n",
       "      <td>NaN</td>\n",
       "      <td>NaN</td>\n",
       "      <td>NaN</td>\n",
       "      <td>NaN</td>\n",
       "      <td>1954</td>\n",
       "    </tr>\n",
       "    <tr>\n",
       "      <th>222470151</th>\n",
       "      <td>222470</td>\n",
       "      <td>151</td>\n",
       "      <td>1959-10-10</td>\n",
       "      <td>12250</td>\n",
       "      <td>3</td>\n",
       "      <td>0</td>\n",
       "      <td>1</td>\n",
       "      <td>8</td>\n",
       "      <td>18</td>\n",
       "      <td>2.0</td>\n",
       "      <td>...</td>\n",
       "      <td>0.0</td>\n",
       "      <td>1.0</td>\n",
       "      <td>0.0</td>\n",
       "      <td>N</td>\n",
       "      <td>N</td>\n",
       "      <td>2090.0</td>\n",
       "      <td>0.0</td>\n",
       "      <td>0.0</td>\n",
       "      <td>4.0</td>\n",
       "      <td>1959</td>\n",
       "    </tr>\n",
       "    <tr>\n",
       "      <th>46700477</th>\n",
       "      <td>46700</td>\n",
       "      <td>477</td>\n",
       "      <td>1960-01-01</td>\n",
       "      <td>2500</td>\n",
       "      <td>3</td>\n",
       "      <td>0</td>\n",
       "      <td>18</td>\n",
       "      <td>2</td>\n",
       "      <td>22</td>\n",
       "      <td>NaN</td>\n",
       "      <td>...</td>\n",
       "      <td>NaN</td>\n",
       "      <td>NaN</td>\n",
       "      <td>NaN</td>\n",
       "      <td>NaN</td>\n",
       "      <td>NaN</td>\n",
       "      <td>NaN</td>\n",
       "      <td>NaN</td>\n",
       "      <td>NaN</td>\n",
       "      <td>NaN</td>\n",
       "      <td>1960</td>\n",
       "    </tr>\n",
       "    <tr>\n",
       "      <th>503180251</th>\n",
       "      <td>503180</td>\n",
       "      <td>251</td>\n",
       "      <td>1960-09-27</td>\n",
       "      <td>2300</td>\n",
       "      <td>3</td>\n",
       "      <td>0</td>\n",
       "      <td>1</td>\n",
       "      <td>8</td>\n",
       "      <td>25</td>\n",
       "      <td>100.0</td>\n",
       "      <td>...</td>\n",
       "      <td>2.0</td>\n",
       "      <td>0.0</td>\n",
       "      <td>0.0</td>\n",
       "      <td>N</td>\n",
       "      <td>N</td>\n",
       "      <td>1140.0</td>\n",
       "      <td>810.0</td>\n",
       "      <td>40.0</td>\n",
       "      <td>3.0</td>\n",
       "      <td>1960</td>\n",
       "    </tr>\n",
       "    <tr>\n",
       "      <th>55893045</th>\n",
       "      <td>558930</td>\n",
       "      <td>45</td>\n",
       "      <td>1962-10-03</td>\n",
       "      <td>7200</td>\n",
       "      <td>3</td>\n",
       "      <td>6</td>\n",
       "      <td>1</td>\n",
       "      <td>8</td>\n",
       "      <td></td>\n",
       "      <td>3.0</td>\n",
       "      <td>...</td>\n",
       "      <td>0.0</td>\n",
       "      <td>0.0</td>\n",
       "      <td>0.0</td>\n",
       "      <td>N</td>\n",
       "      <td>N</td>\n",
       "      <td>480.0</td>\n",
       "      <td>0.0</td>\n",
       "      <td>0.0</td>\n",
       "      <td>3.0</td>\n",
       "      <td>1962</td>\n",
       "    </tr>\n",
       "  </tbody>\n",
       "</table>\n",
       "<p>5 rows × 32 columns</p>\n",
       "</div>"
      ],
      "text/plain": [
       "             Major Minor DocumentDate  SalePrice  PropertyType  PrincipalUse  \\\n",
       "UniqueID                                                                       \n",
       "7186800030  718680  0030   1954-03-11        600             3             6   \n",
       "222470151   222470   151   1959-10-10      12250             3             0   \n",
       "46700477     46700   477   1960-01-01       2500             3             0   \n",
       "503180251   503180   251   1960-09-27       2300             3             0   \n",
       "55893045    558930    45   1962-10-03       7200             3             6   \n",
       "\n",
       "            SaleReason  PropertyClass SaleWarning   Area  ...  \\\n",
       "UniqueID                                                  ...   \n",
       "7186800030          18              8       32 51    NaN  ...   \n",
       "222470151            1              8          18    2.0  ...   \n",
       "46700477            18              2          22    NaN  ...   \n",
       "503180251            1              8          25  100.0  ...   \n",
       "55893045             1              8                3.0  ...   \n",
       "\n",
       "            TidelandShoreland  TrafficNoise  AirportNoise  PowerLines  \\\n",
       "UniqueID                                                                \n",
       "7186800030                NaN           NaN           NaN         NaN   \n",
       "222470151                 0.0           1.0           0.0           N   \n",
       "46700477                  NaN           NaN           NaN         NaN   \n",
       "503180251                 2.0           0.0           0.0           N   \n",
       "55893045                  0.0           0.0           0.0           N   \n",
       "\n",
       "            OtherNuisances  SqFtTotLiving  SqFtDeck  SqFtOpenPorch  Condition  \\\n",
       "UniqueID                                                                        \n",
       "7186800030             NaN            NaN       NaN            NaN        NaN   \n",
       "222470151                N         2090.0       0.0            0.0        4.0   \n",
       "46700477               NaN            NaN       NaN            NaN        NaN   \n",
       "503180251                N         1140.0     810.0           40.0        3.0   \n",
       "55893045                 N          480.0       0.0            0.0        3.0   \n",
       "\n",
       "            year  \n",
       "UniqueID          \n",
       "7186800030  1954  \n",
       "222470151   1959  \n",
       "46700477    1960  \n",
       "503180251   1960  \n",
       "55893045    1962  \n",
       "\n",
       "[5 rows x 32 columns]"
      ]
     },
     "execution_count": 72,
     "metadata": {},
     "output_type": "execute_result"
    }
   ],
   "source": [
    "df_final.head()"
   ]
  },
  {
   "cell_type": "code",
   "execution_count": 75,
   "metadata": {},
   "outputs": [],
   "source": [
    "df_2019final = df_final[df_final.year == 2019]"
   ]
  },
  {
   "cell_type": "code",
   "execution_count": 76,
   "metadata": {},
   "outputs": [],
   "source": [
    "df_2019final.to_json('../Data/combined.json')"
   ]
  },
  {
   "cell_type": "code",
   "execution_count": null,
   "metadata": {},
   "outputs": [],
   "source": []
  }
 ],
 "metadata": {
  "kernelspec": {
   "display_name": "Python 3",
   "language": "python",
   "name": "python3"
  },
  "language_info": {
   "codemirror_mode": {
    "name": "ipython",
    "version": 3
   },
   "file_extension": ".py",
   "mimetype": "text/x-python",
   "name": "python",
   "nbconvert_exporter": "python",
   "pygments_lexer": "ipython3",
   "version": "3.8.3"
  }
 },
 "nbformat": 4,
 "nbformat_minor": 4
}
