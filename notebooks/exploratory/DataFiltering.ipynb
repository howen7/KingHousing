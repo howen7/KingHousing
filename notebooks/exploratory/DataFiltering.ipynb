{
 "cells": [
  {
   "cell_type": "code",
   "execution_count": 2,
   "metadata": {},
   "outputs": [],
   "source": [
    "import pandas as pd\n",
    "from datetime import datetime"
   ]
  },
  {
   "cell_type": "markdown",
   "metadata": {},
   "source": [
    "# Importing 3 Dataframes"
   ]
  },
  {
   "cell_type": "code",
   "execution_count": 3,
   "metadata": {},
   "outputs": [],
   "source": [
    "df_parcel = pd.read_csv('../Data/raw/EXTR_Parcel.csv', encoding = \"ISO-8859-1\")"
   ]
  },
  {
   "cell_type": "code",
   "execution_count": 4,
   "metadata": {},
   "outputs": [],
   "source": [
    "df_res = pd.read_csv('../Data/raw/EXTR_ResBldg.csv',low_memory=False)"
   ]
  },
  {
   "cell_type": "code",
   "execution_count": 5,
   "metadata": {},
   "outputs": [],
   "source": [
    "df_real = pd.read_csv('../Data/raw/EXTR_RPSale.csv', encoding = \"ISO-8859-1\", low_memory=False)"
   ]
  },
  {
   "cell_type": "markdown",
   "metadata": {},
   "source": [
    "# Filtering for single family homes only"
   ]
  },
  {
   "cell_type": "code",
   "execution_count": 6,
   "metadata": {},
   "outputs": [],
   "source": [
    "df_real['DocumentDate'] = pd.to_datetime(df_real['DocumentDate'], format=\"%m/%d/%Y\")\n",
    "df_real['year'] = pd.DatetimeIndex(df_real['DocumentDate']).year"
   ]
  },
  {
   "cell_type": "code",
   "execution_count": 7,
   "metadata": {},
   "outputs": [],
   "source": [
    "#set property type to 2,3,11 which are single family units\n",
    "#set to principal use to 6 which is RESIDENTIAL   \n",
    "#set year to 2019 for most recent data\n",
    "# set propertyclass to 8 and 7 which includes only houses\n",
    "df_real = df_real.loc[(df_real.PropertyType.isin([2,3,11])) & \n",
    "                           (df_real.SalePrice > 250000) & \n",
    "                           (df_real.SalePrice < 3000000) &\n",
    "                           (df_real.PrincipalUse == 6) & \n",
    "                           (df_real.year == 2019) &\n",
    "                           (df_real.PropertyClass.isin([8,7]))]"
   ]
  },
  {
   "cell_type": "markdown",
   "metadata": {},
   "source": [
    "# Creating a UniqueID accross all dataframes to combine later"
   ]
  },
  {
   "cell_type": "code",
   "execution_count": 8,
   "metadata": {},
   "outputs": [],
   "source": [
    "df_list = [df_parcel, df_res, df_real]"
   ]
  },
  {
   "cell_type": "code",
   "execution_count": 9,
   "metadata": {},
   "outputs": [],
   "source": [
    "for i in df_list:\n",
    "    i.Minor = i.Minor.apply(lambda x: str(x).zfill(4))\n",
    "    i.Major = i.Major.apply(lambda x: str(x).zfill(6))\n",
    "    i['UniqueID'] = pd.to_numeric(i['Major'] + i['Minor']).astype(int)"
   ]
  },
  {
   "cell_type": "markdown",
   "metadata": {},
   "source": [
    "# Removing duplicates"
   ]
  },
  {
   "cell_type": "code",
   "execution_count": 10,
   "metadata": {},
   "outputs": [],
   "source": [
    "#dropping duplicated values of unique id in and keeping most recent sale\n",
    "df_real = df_real.sort_values('DocumentDate').drop_duplicates('UniqueID', keep='last')"
   ]
  },
  {
   "cell_type": "code",
   "execution_count": 11,
   "metadata": {},
   "outputs": [],
   "source": [
    "df_res = df_res.drop_duplicates(subset = 'UniqueID', keep = 'first')"
   ]
  },
  {
   "cell_type": "markdown",
   "metadata": {},
   "source": [
    "# Making UniqueID column the index for all the dataframes"
   ]
  },
  {
   "cell_type": "code",
   "execution_count": 12,
   "metadata": {},
   "outputs": [],
   "source": [
    "df_res.set_index(keys = 'UniqueID', drop=True, inplace=True)\n",
    "df_parcel.set_index(keys = 'UniqueID', drop=True, inplace=True)\n",
    "df_real.set_index(keys = 'UniqueID', drop=True, inplace=True)"
   ]
  },
  {
   "cell_type": "markdown",
   "metadata": {},
   "source": [
    "# Concatenating the Dataframes "
   ]
  },
  {
   "cell_type": "code",
   "execution_count": 13,
   "metadata": {},
   "outputs": [],
   "source": [
    "test_df = pd.concat([df_real, df_parcel.reindex(df_real.index)], axis=1)"
   ]
  },
  {
   "cell_type": "code",
   "execution_count": 14,
   "metadata": {},
   "outputs": [],
   "source": [
    "df_combined = pd.concat([test_df, df_res.reindex(test_df.index)], axis=1)"
   ]
  },
  {
   "cell_type": "code",
   "execution_count": 15,
   "metadata": {},
   "outputs": [],
   "source": [
    "# Removes duplicated columns\n",
    "df_combined = df_combined.loc[:,~df_combined.columns.duplicated()]"
   ]
  },
  {
   "cell_type": "code",
   "execution_count": 16,
   "metadata": {},
   "outputs": [
    {
     "data": {
      "text/plain": [
       "['ExciseTaxNbr',\n",
       " 'Major',\n",
       " 'Minor',\n",
       " 'DocumentDate',\n",
       " 'SalePrice',\n",
       " 'RecordingNbr',\n",
       " 'Volume',\n",
       " 'Page',\n",
       " 'PlatNbr',\n",
       " 'PlatType',\n",
       " 'PlatLot',\n",
       " 'PlatBlock',\n",
       " 'SellerName',\n",
       " 'BuyerName',\n",
       " 'PropertyType',\n",
       " 'PrincipalUse',\n",
       " 'SaleInstrument',\n",
       " 'AFForestLand',\n",
       " 'AFCurrentUseLand',\n",
       " 'AFNonProfitUse',\n",
       " 'AFHistoricProperty',\n",
       " 'SaleReason',\n",
       " 'PropertyClass',\n",
       " 'SaleWarning',\n",
       " 'year',\n",
       " 'PropName',\n",
       " 'PlatName',\n",
       " 'Range',\n",
       " 'Township',\n",
       " 'Section',\n",
       " 'QuarterSection',\n",
       " 'PropType',\n",
       " 'Area',\n",
       " 'SubArea',\n",
       " 'SpecArea',\n",
       " 'SpecSubArea',\n",
       " 'DistrictName',\n",
       " 'LevyCode',\n",
       " 'CurrentZoning',\n",
       " 'HBUAsIfVacant',\n",
       " 'HBUAsImproved',\n",
       " 'PresentUse',\n",
       " 'SqFtLot',\n",
       " 'WaterSystem',\n",
       " 'SewerSystem',\n",
       " 'Access',\n",
       " 'Topography',\n",
       " 'StreetSurface',\n",
       " 'RestrictiveSzShape',\n",
       " 'InadequateParking',\n",
       " 'PcntUnusable',\n",
       " 'Unbuildable',\n",
       " 'MtRainier',\n",
       " 'Olympics',\n",
       " 'Cascades',\n",
       " 'Territorial',\n",
       " 'SeattleSkyline',\n",
       " 'PugetSound',\n",
       " 'LakeWashington',\n",
       " 'LakeSammamish',\n",
       " 'SmallLakeRiverCreek',\n",
       " 'OtherView',\n",
       " 'WfntLocation',\n",
       " 'WfntFootage',\n",
       " 'WfntBank',\n",
       " 'WfntPoorQuality',\n",
       " 'WfntRestrictedAccess',\n",
       " 'WfntAccessRights',\n",
       " 'WfntProximityInfluence',\n",
       " 'TidelandShoreland',\n",
       " 'LotDepthFactor',\n",
       " 'TrafficNoise',\n",
       " 'AirportNoise',\n",
       " 'PowerLines',\n",
       " 'OtherNuisances',\n",
       " 'NbrBldgSites',\n",
       " 'Contamination',\n",
       " 'DNRLease',\n",
       " 'AdjacentGolfFairway',\n",
       " 'AdjacentGreenbelt',\n",
       " 'HistoricSite',\n",
       " 'CurrentUseDesignation',\n",
       " 'NativeGrowthProtEsmt',\n",
       " 'Easements',\n",
       " 'OtherDesignation',\n",
       " 'DeedRestrictions',\n",
       " 'DevelopmentRightsPurch',\n",
       " 'CoalMineHazard',\n",
       " 'CriticalDrainage',\n",
       " 'ErosionHazard',\n",
       " 'LandfillBuffer',\n",
       " 'HundredYrFloodPlain',\n",
       " 'SeismicHazard',\n",
       " 'LandslideHazard',\n",
       " 'SteepSlopeHazard',\n",
       " 'Stream',\n",
       " 'Wetland',\n",
       " 'SpeciesOfConcern',\n",
       " 'SensitiveAreaTract',\n",
       " 'WaterProblems',\n",
       " 'TranspConcurrency',\n",
       " 'OtherProblems',\n",
       " 'BldgNbr',\n",
       " 'NbrLivingUnits',\n",
       " 'Address',\n",
       " 'BuildingNumber',\n",
       " 'Fraction',\n",
       " 'DirectionPrefix',\n",
       " 'StreetName',\n",
       " 'StreetType',\n",
       " 'DirectionSuffix',\n",
       " 'ZipCode',\n",
       " 'Stories',\n",
       " 'BldgGrade',\n",
       " 'BldgGradeVar',\n",
       " 'SqFt1stFloor',\n",
       " 'SqFtHalfFloor',\n",
       " 'SqFt2ndFloor',\n",
       " 'SqFtUpperFloor',\n",
       " 'SqFtUnfinFull',\n",
       " 'SqFtUnfinHalf',\n",
       " 'SqFtTotLiving',\n",
       " 'SqFtTotBasement',\n",
       " 'SqFtFinBasement',\n",
       " 'FinBasementGrade',\n",
       " 'SqFtGarageBasement',\n",
       " 'SqFtGarageAttached',\n",
       " 'DaylightBasement',\n",
       " 'SqFtOpenPorch',\n",
       " 'SqFtEnclosedPorch',\n",
       " 'SqFtDeck',\n",
       " 'HeatSystem',\n",
       " 'HeatSource',\n",
       " 'BrickStone',\n",
       " 'ViewUtilization',\n",
       " 'Bedrooms',\n",
       " 'BathHalfCount',\n",
       " 'Bath3qtrCount',\n",
       " 'BathFullCount',\n",
       " 'FpSingleStory',\n",
       " 'FpMultiStory',\n",
       " 'FpFreestanding',\n",
       " 'FpAdditional',\n",
       " 'YrBuilt',\n",
       " 'YrRenovated',\n",
       " 'PcntComplete',\n",
       " 'Obsolescence',\n",
       " 'PcntNetCondition',\n",
       " 'Condition',\n",
       " 'AddnlCost']"
      ]
     },
     "execution_count": 16,
     "metadata": {},
     "output_type": "execute_result"
    }
   ],
   "source": [
    "df_combined.columns.tolist()"
   ]
  },
  {
   "cell_type": "code",
   "execution_count": 28,
   "metadata": {},
   "outputs": [],
   "source": [
    "df_chosen = df_combined[['SalePrice',\n",
    " 'SqFtTotLiving',\n",
    " 'SqFtOpenPorch',\n",
    " 'SqFtLot',\n",
    " 'WfntFootage',]]"
   ]
  },
  {
   "cell_type": "code",
   "execution_count": 29,
   "metadata": {},
   "outputs": [
    {
     "name": "stderr",
     "output_type": "stream",
     "text": [
      "<ipython-input-29-b1d81b20ac6e>:1: SettingWithCopyWarning: \n",
      "A value is trying to be set on a copy of a slice from a DataFrame\n",
      "\n",
      "See the caveats in the documentation: https://pandas.pydata.org/pandas-docs/stable/user_guide/indexing.html#returning-a-view-versus-a-copy\n",
      "  df_chosen.dropna(inplace=True)\n"
     ]
    }
   ],
   "source": [
    "df_chosen.dropna(inplace=True)"
   ]
  },
  {
   "cell_type": "code",
   "execution_count": 30,
   "metadata": {},
   "outputs": [],
   "source": [
    "df_chosen.to_json('../Data/combined.json')"
   ]
  },
  {
   "cell_type": "markdown",
   "metadata": {},
   "source": [
    "# Creating Dummy columns"
   ]
  },
  {
   "cell_type": "code",
   "execution_count": 39,
   "metadata": {},
   "outputs": [
    {
     "ename": "KeyError",
     "evalue": "\"['Bedrooms' 'BathHalfCount'] not found in axis\"",
     "output_type": "error",
     "traceback": [
      "\u001b[0;31m---------------------------------------------------------------------------\u001b[0m",
      "\u001b[0;31mKeyError\u001b[0m                                  Traceback (most recent call last)",
      "\u001b[0;32m<ipython-input-39-87cf735c02f7>\u001b[0m in \u001b[0;36m<module>\u001b[0;34m\u001b[0m\n\u001b[1;32m      2\u001b[0m \u001b[0;34m\u001b[0m\u001b[0m\n\u001b[1;32m      3\u001b[0m \u001b[0mohe\u001b[0m \u001b[0;34m=\u001b[0m \u001b[0mOneHotEncoder\u001b[0m\u001b[0;34m(\u001b[0m\u001b[0mdrop\u001b[0m\u001b[0;34m=\u001b[0m\u001b[0;34m'first'\u001b[0m\u001b[0;34m)\u001b[0m\u001b[0;34m\u001b[0m\u001b[0;34m\u001b[0m\u001b[0m\n\u001b[0;32m----> 4\u001b[0;31m catagory = ohe.fit_transform(df_chosen.drop(['SalePrice',\n\u001b[0m\u001b[1;32m      5\u001b[0m  \u001b[0;34m'SqFtTotLiving'\u001b[0m\u001b[0;34m,\u001b[0m\u001b[0;34m\u001b[0m\u001b[0;34m\u001b[0m\u001b[0m\n\u001b[1;32m      6\u001b[0m  \u001b[0;34m'SqFtOpenPorch'\u001b[0m\u001b[0;34m,\u001b[0m\u001b[0;34m\u001b[0m\u001b[0;34m\u001b[0m\u001b[0m\n",
      "\u001b[0;32m/opt/anaconda3/lib/python3.8/site-packages/pandas/core/frame.py\u001b[0m in \u001b[0;36mdrop\u001b[0;34m(self, labels, axis, index, columns, level, inplace, errors)\u001b[0m\n\u001b[1;32m   3988\u001b[0m                 \u001b[0mweight\u001b[0m  \u001b[0;36m1.0\u001b[0m     \u001b[0;36m0.8\u001b[0m\u001b[0;34m\u001b[0m\u001b[0;34m\u001b[0m\u001b[0m\n\u001b[1;32m   3989\u001b[0m         \"\"\"\n\u001b[0;32m-> 3990\u001b[0;31m         return super().drop(\n\u001b[0m\u001b[1;32m   3991\u001b[0m             \u001b[0mlabels\u001b[0m\u001b[0;34m=\u001b[0m\u001b[0mlabels\u001b[0m\u001b[0;34m,\u001b[0m\u001b[0;34m\u001b[0m\u001b[0;34m\u001b[0m\u001b[0m\n\u001b[1;32m   3992\u001b[0m             \u001b[0maxis\u001b[0m\u001b[0;34m=\u001b[0m\u001b[0maxis\u001b[0m\u001b[0;34m,\u001b[0m\u001b[0;34m\u001b[0m\u001b[0;34m\u001b[0m\u001b[0m\n",
      "\u001b[0;32m/opt/anaconda3/lib/python3.8/site-packages/pandas/core/generic.py\u001b[0m in \u001b[0;36mdrop\u001b[0;34m(self, labels, axis, index, columns, level, inplace, errors)\u001b[0m\n\u001b[1;32m   3934\u001b[0m         \u001b[0;32mfor\u001b[0m \u001b[0maxis\u001b[0m\u001b[0;34m,\u001b[0m \u001b[0mlabels\u001b[0m \u001b[0;32min\u001b[0m \u001b[0maxes\u001b[0m\u001b[0;34m.\u001b[0m\u001b[0mitems\u001b[0m\u001b[0;34m(\u001b[0m\u001b[0;34m)\u001b[0m\u001b[0;34m:\u001b[0m\u001b[0;34m\u001b[0m\u001b[0;34m\u001b[0m\u001b[0m\n\u001b[1;32m   3935\u001b[0m             \u001b[0;32mif\u001b[0m \u001b[0mlabels\u001b[0m \u001b[0;32mis\u001b[0m \u001b[0;32mnot\u001b[0m \u001b[0;32mNone\u001b[0m\u001b[0;34m:\u001b[0m\u001b[0;34m\u001b[0m\u001b[0;34m\u001b[0m\u001b[0m\n\u001b[0;32m-> 3936\u001b[0;31m                 \u001b[0mobj\u001b[0m \u001b[0;34m=\u001b[0m \u001b[0mobj\u001b[0m\u001b[0;34m.\u001b[0m\u001b[0m_drop_axis\u001b[0m\u001b[0;34m(\u001b[0m\u001b[0mlabels\u001b[0m\u001b[0;34m,\u001b[0m \u001b[0maxis\u001b[0m\u001b[0;34m,\u001b[0m \u001b[0mlevel\u001b[0m\u001b[0;34m=\u001b[0m\u001b[0mlevel\u001b[0m\u001b[0;34m,\u001b[0m \u001b[0merrors\u001b[0m\u001b[0;34m=\u001b[0m\u001b[0merrors\u001b[0m\u001b[0;34m)\u001b[0m\u001b[0;34m\u001b[0m\u001b[0;34m\u001b[0m\u001b[0m\n\u001b[0m\u001b[1;32m   3937\u001b[0m \u001b[0;34m\u001b[0m\u001b[0m\n\u001b[1;32m   3938\u001b[0m         \u001b[0;32mif\u001b[0m \u001b[0minplace\u001b[0m\u001b[0;34m:\u001b[0m\u001b[0;34m\u001b[0m\u001b[0;34m\u001b[0m\u001b[0m\n",
      "\u001b[0;32m/opt/anaconda3/lib/python3.8/site-packages/pandas/core/generic.py\u001b[0m in \u001b[0;36m_drop_axis\u001b[0;34m(self, labels, axis, level, errors)\u001b[0m\n\u001b[1;32m   3968\u001b[0m                 \u001b[0mnew_axis\u001b[0m \u001b[0;34m=\u001b[0m \u001b[0maxis\u001b[0m\u001b[0;34m.\u001b[0m\u001b[0mdrop\u001b[0m\u001b[0;34m(\u001b[0m\u001b[0mlabels\u001b[0m\u001b[0;34m,\u001b[0m \u001b[0mlevel\u001b[0m\u001b[0;34m=\u001b[0m\u001b[0mlevel\u001b[0m\u001b[0;34m,\u001b[0m \u001b[0merrors\u001b[0m\u001b[0;34m=\u001b[0m\u001b[0merrors\u001b[0m\u001b[0;34m)\u001b[0m\u001b[0;34m\u001b[0m\u001b[0;34m\u001b[0m\u001b[0m\n\u001b[1;32m   3969\u001b[0m             \u001b[0;32melse\u001b[0m\u001b[0;34m:\u001b[0m\u001b[0;34m\u001b[0m\u001b[0;34m\u001b[0m\u001b[0m\n\u001b[0;32m-> 3970\u001b[0;31m                 \u001b[0mnew_axis\u001b[0m \u001b[0;34m=\u001b[0m \u001b[0maxis\u001b[0m\u001b[0;34m.\u001b[0m\u001b[0mdrop\u001b[0m\u001b[0;34m(\u001b[0m\u001b[0mlabels\u001b[0m\u001b[0;34m,\u001b[0m \u001b[0merrors\u001b[0m\u001b[0;34m=\u001b[0m\u001b[0merrors\u001b[0m\u001b[0;34m)\u001b[0m\u001b[0;34m\u001b[0m\u001b[0;34m\u001b[0m\u001b[0m\n\u001b[0m\u001b[1;32m   3971\u001b[0m             \u001b[0mresult\u001b[0m \u001b[0;34m=\u001b[0m \u001b[0mself\u001b[0m\u001b[0;34m.\u001b[0m\u001b[0mreindex\u001b[0m\u001b[0;34m(\u001b[0m\u001b[0;34m**\u001b[0m\u001b[0;34m{\u001b[0m\u001b[0maxis_name\u001b[0m\u001b[0;34m:\u001b[0m \u001b[0mnew_axis\u001b[0m\u001b[0;34m}\u001b[0m\u001b[0;34m)\u001b[0m\u001b[0;34m\u001b[0m\u001b[0;34m\u001b[0m\u001b[0m\n\u001b[1;32m   3972\u001b[0m \u001b[0;34m\u001b[0m\u001b[0m\n",
      "\u001b[0;32m/opt/anaconda3/lib/python3.8/site-packages/pandas/core/indexes/base.py\u001b[0m in \u001b[0;36mdrop\u001b[0;34m(self, labels, errors)\u001b[0m\n\u001b[1;32m   5016\u001b[0m         \u001b[0;32mif\u001b[0m \u001b[0mmask\u001b[0m\u001b[0;34m.\u001b[0m\u001b[0many\u001b[0m\u001b[0;34m(\u001b[0m\u001b[0;34m)\u001b[0m\u001b[0;34m:\u001b[0m\u001b[0;34m\u001b[0m\u001b[0;34m\u001b[0m\u001b[0m\n\u001b[1;32m   5017\u001b[0m             \u001b[0;32mif\u001b[0m \u001b[0merrors\u001b[0m \u001b[0;34m!=\u001b[0m \u001b[0;34m\"ignore\"\u001b[0m\u001b[0;34m:\u001b[0m\u001b[0;34m\u001b[0m\u001b[0;34m\u001b[0m\u001b[0m\n\u001b[0;32m-> 5018\u001b[0;31m                 \u001b[0;32mraise\u001b[0m \u001b[0mKeyError\u001b[0m\u001b[0;34m(\u001b[0m\u001b[0;34mf\"{labels[mask]} not found in axis\"\u001b[0m\u001b[0;34m)\u001b[0m\u001b[0;34m\u001b[0m\u001b[0;34m\u001b[0m\u001b[0m\n\u001b[0m\u001b[1;32m   5019\u001b[0m             \u001b[0mindexer\u001b[0m \u001b[0;34m=\u001b[0m \u001b[0mindexer\u001b[0m\u001b[0;34m[\u001b[0m\u001b[0;34m~\u001b[0m\u001b[0mmask\u001b[0m\u001b[0;34m]\u001b[0m\u001b[0;34m\u001b[0m\u001b[0;34m\u001b[0m\u001b[0m\n\u001b[1;32m   5020\u001b[0m         \u001b[0;32mreturn\u001b[0m \u001b[0mself\u001b[0m\u001b[0;34m.\u001b[0m\u001b[0mdelete\u001b[0m\u001b[0;34m(\u001b[0m\u001b[0mindexer\u001b[0m\u001b[0;34m)\u001b[0m\u001b[0;34m\u001b[0m\u001b[0;34m\u001b[0m\u001b[0m\n",
      "\u001b[0;31mKeyError\u001b[0m: \"['Bedrooms' 'BathHalfCount'] not found in axis\""
     ]
    }
   ],
   "source": [
    "from sklearn.preprocessing import OneHotEncoder\n",
    "\n",
    "ohe = OneHotEncoder(drop='first')\n",
    "catagory = ohe.fit_transform(df_chosen.drop(['SalePrice',\n",
    " 'SqFtTotLiving',\n",
    " 'SqFtOpenPorch',\n",
    " 'SqFtLot',\n",
    " 'WfntFootage', \n",
    " 'WfntBank',\n",
    " 'WfntLocation',\n",
    " 'FinBasementGrade',\n",
    " 'Bedrooms','BathHalfCount'],axis=1))"
   ]
  },
  {
   "cell_type": "code",
   "execution_count": 32,
   "metadata": {},
   "outputs": [],
   "source": [
    "column_names = ohe.get_feature_names([\n",
    " 'WfntBank',\n",
    " 'WfntLocation',\n",
    " 'FinBasementGrade',\n",
    " 'Bedrooms',\n",
    " 'BathHalfCount'\n",
    "])"
   ]
  },
  {
   "cell_type": "code",
   "execution_count": 33,
   "metadata": {},
   "outputs": [],
   "source": [
    "df_cat = pd.DataFrame(index = df_chosen.index , data = catagory.todense(), columns=column_names)"
   ]
  },
  {
   "cell_type": "code",
   "execution_count": 34,
   "metadata": {},
   "outputs": [],
   "source": [
    "df_cont = df_chosen[['SalePrice',\n",
    " 'SqFtTotLiving',\n",
    " 'SqFtDeck',\n",
    " 'SqFtOpenPorch',\n",
    " 'Area',\n",
    " 'SqFtLot',\n",
    " 'WfntFootage']]"
   ]
  },
  {
   "cell_type": "code",
   "execution_count": 35,
   "metadata": {},
   "outputs": [],
   "source": [
    "df_with_catagories = pd.concat([df_cont, df_cat.reindex(df_cont.index)], axis=1)"
   ]
  },
  {
   "cell_type": "code",
   "execution_count": 36,
   "metadata": {},
   "outputs": [],
   "source": [
    "df_with_catagories.to_json('../Data/combined_onehot.json')"
   ]
  },
  {
   "cell_type": "code",
   "execution_count": null,
   "metadata": {},
   "outputs": [],
   "source": []
  }
 ],
 "metadata": {
  "kernelspec": {
   "display_name": "Python 3",
   "language": "python",
   "name": "python3"
  },
  "language_info": {
   "codemirror_mode": {
    "name": "ipython",
    "version": 3
   },
   "file_extension": ".py",
   "mimetype": "text/x-python",
   "name": "python",
   "nbconvert_exporter": "python",
   "pygments_lexer": "ipython3",
   "version": "3.8.3"
  }
 },
 "nbformat": 4,
 "nbformat_minor": 4
}
