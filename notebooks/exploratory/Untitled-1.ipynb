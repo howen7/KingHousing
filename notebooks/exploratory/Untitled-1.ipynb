{
 "cells": [
  {
   "cell_type": "code",
   "execution_count": 2,
   "metadata": {},
   "outputs": [],
   "source": [
    "import pandas as pd\n",
    "import sqlite3\n",
    "from datetime import datetime"
   ]
  },
  {
   "cell_type": "markdown",
   "metadata": {},
   "source": [
    "# Importing 3 Dataframes"
   ]
  },
  {
   "cell_type": "code",
   "execution_count": 3,
   "metadata": {},
   "outputs": [],
   "source": [
    "df_parcel = pd.read_csv('../Data/raw/EXTR_Parcel.csv', encoding = \"ISO-8859-1\")"
   ]
  },
  {
   "cell_type": "code",
   "execution_count": 4,
   "metadata": {},
   "outputs": [],
   "source": [
    "df_res = pd.read_csv('../Data/raw/EXTR_ResBldg.csv',low_memory=False)"
   ]
  },
  {
   "cell_type": "code",
   "execution_count": 5,
   "metadata": {},
   "outputs": [],
   "source": [
    "df_real = pd.read_csv('../Data/raw/EXTR_RPSale.csv', encoding = \"ISO-8859-1\", low_memory=False)"
   ]
  },
  {
   "cell_type": "markdown",
   "metadata": {},
   "source": [
    "# Filtering for single family homes only"
   ]
  },
  {
   "cell_type": "code",
   "execution_count": 6,
   "metadata": {},
   "outputs": [],
   "source": [
    "df_real['DocumentDate'] = pd.to_datetime(df_real['DocumentDate'], format=\"%m/%d/%Y\")\n",
    "df_real['year'] = pd.DatetimeIndex(df_real['DocumentDate']).year"
   ]
  },
  {
   "cell_type": "code",
   "execution_count": 7,
   "metadata": {},
   "outputs": [],
   "source": [
    "#set property type to 2,3,11 which are single family units\n",
    "#set to principal use to 6 which is RESIDENTIAL   \n",
    "#set year to 2019 for most recent data\n",
    "# set propertyclass to 8 and 7 which includes only houses\n",
    "df_real = df_real.loc[(df_real.PropertyType.isin([2,3,11])) & \n",
    "                           (df_real.SalePrice > 0) & \n",
    "                           (df_real.PrincipalUse == 6) & \n",
    "                           (df_real.year == 2019) &\n",
    "                           (df_real.PropertyClass.isin([8,7]))]"
   ]
  },
  {
   "cell_type": "markdown",
   "metadata": {},
   "source": [
    "# Creating a UniqueID accross all dataframes to combine later"
   ]
  },
  {
   "cell_type": "code",
   "execution_count": 8,
   "metadata": {},
   "outputs": [],
   "source": [
    "df_list = [df_parcel, df_res, df_real]"
   ]
  },
  {
   "cell_type": "code",
   "execution_count": 9,
   "metadata": {},
   "outputs": [],
   "source": [
    "for i in df_list:\n",
    "    i.Minor = i.Minor.apply(lambda x: str(x).zfill(4))\n",
    "    i.Major = i.Major.apply(lambda x: str(x).zfill(6))\n",
    "    i['UniqueID'] = pd.to_numeric(i['Major'] + i['Minor']).astype(int)"
   ]
  },
  {
   "cell_type": "code",
   "execution_count": 26,
   "metadata": {},
   "outputs": [
    {
     "data": {
      "text/plain": [
       "dtype('int64')"
      ]
     },
     "execution_count": 26,
     "metadata": {},
     "output_type": "execute_result"
    }
   ],
   "source": [
    "df_res.UniqueID.dtype"
   ]
  },
  {
   "cell_type": "markdown",
   "metadata": {},
   "source": [
    "# Removing duplicates"
   ]
  },
  {
   "cell_type": "code",
   "execution_count": 22,
   "metadata": {},
   "outputs": [],
   "source": [
    "#dropping duplicated values of unique id in and keeping most recent sale\n",
    "df_real = df_real.sort_values('DocumentDate').drop_duplicates('UniqueID', keep='last')"
   ]
  },
  {
   "cell_type": "code",
   "execution_count": 23,
   "metadata": {},
   "outputs": [],
   "source": [
    "df_res = df_res.drop_duplicates(subset = 'UniqueID', keep = 'first')"
   ]
  },
  {
   "cell_type": "markdown",
   "metadata": {},
   "source": [
    "# Making UniqueID column the index for all the dataframes"
   ]
  },
  {
   "cell_type": "code",
   "execution_count": 30,
   "metadata": {},
   "outputs": [],
   "source": [
    "df_res.set_index(keys = 'UniqueID', drop=True, inplace=True)\n",
    "df_parcel.set_index(keys = 'UniqueID', drop=True, inplace=True)\n",
    "df_real.set_index(keys = 'UniqueID', drop=True, inplace=True)"
   ]
  },
  {
   "cell_type": "markdown",
   "metadata": {},
   "source": [
    "# Concatenating the Dataframes "
   ]
  },
  {
   "cell_type": "code",
   "execution_count": 32,
   "metadata": {},
   "outputs": [],
   "source": [
    "test_df = pd.concat([df_real, df_parcel.reindex(df_real.index)], axis=1)"
   ]
  },
  {
   "cell_type": "code",
   "execution_count": 34,
   "metadata": {},
   "outputs": [],
   "source": [
    "df_combined = pd.concat([test_df, df_res.reindex(test_df.index)], axis=1)"
   ]
  },
  {
   "cell_type": "code",
   "execution_count": 35,
   "metadata": {},
   "outputs": [],
   "source": [
    "# Removes duplicated columns\n",
    "df_combined = df_combined.loc[:,~df_combined.columns.duplicated()]"
   ]
  },
  {
   "cell_type": "code",
   "execution_count": 36,
   "metadata": {},
   "outputs": [],
   "source": [
    "df_final = df_combined[['DocumentDate','SalePrice', 'PropertyType', 'Area', 'SqFtLot', 'LakeWashington',\n",
    " 'LakeSammamish','SmallLakeRiverCreek','WfntLocation','WfntFootage','WfntBank','WfntPoorQuality','WfntRestrictedAccess','TidelandShoreland', 'TrafficNoise',\n",
    " 'PowerLines','OtherNuisances', 'SqFtTotLiving','SqFtDeck','SqFtOpenPorch', 'Condition' ]]"
   ]
  },
  {
   "cell_type": "code",
   "execution_count": 37,
   "metadata": {},
   "outputs": [],
   "source": [
    "df_final.to_json('../Data/combined.json')"
   ]
  }
 ],
 "metadata": {
  "kernelspec": {
   "display_name": "Python 3",
   "language": "python",
   "name": "python3"
  },
  "language_info": {
   "codemirror_mode": {
    "name": "ipython",
    "version": 3
   },
   "file_extension": ".py",
   "mimetype": "text/x-python",
   "name": "python",
   "nbconvert_exporter": "python",
   "pygments_lexer": "ipython3",
   "version": "3.8.1"
  }
 },
 "nbformat": 4,
 "nbformat_minor": 4
}
